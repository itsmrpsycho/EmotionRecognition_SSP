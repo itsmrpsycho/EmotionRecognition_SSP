{
 "cells": [
  {
   "cell_type": "code",
   "execution_count": 74,
   "metadata": {},
   "outputs": [],
   "source": [
    "directory = './EmoDB_dataset/wav'"
   ]
  },
  {
   "cell_type": "markdown",
   "metadata": {},
   "source": [
    "# MFCC features"
   ]
  },
  {
   "cell_type": "markdown",
   "metadata": {},
   "source": [
    "## Feature extraction"
   ]
  },
  {
   "cell_type": "code",
   "execution_count": 75,
   "metadata": {},
   "outputs": [],
   "source": [
    "import os\n",
    "import librosa\n",
    "import numpy as np\n",
    "from typing import Dict\n",
    "\n",
    "def extract_mfcc_features(file_path: str, n_mfcc: int = 39, \n",
    "                          frame_size: float = 0.025, frame_stride: float = 0.01, \n",
    "                          n_segments: int = 10) -> np.ndarray:\n",
    "    \"\"\"\n",
    "    Extracts 39 MFCC features framewise from an audio file and then applies\n",
    "    average pooling to condense the features over time into an n x 39 feature matrix.\n",
    "    \n",
    "    Parameters:\n",
    "      file_path (str): Path to the audio file.\n",
    "      n_mfcc (int): Number of MFCC features to extract. Default is 39.\n",
    "      frame_size (float): Length of each frame in seconds. Default is 0.025.\n",
    "      frame_stride (float): Step between successive frames in seconds. Default is 0.01.\n",
    "      n_segments (int): Number of segments (n) to pool the frames into.\n",
    "    \n",
    "    Returns:\n",
    "      np.ndarray: A n x 39 array where each row is the average MFCC vector for that segment.\n",
    "    \"\"\"\n",
    "    try:\n",
    "        signal, sample_rate = librosa.load(file_path, sr=None)\n",
    "        frame_length = int(frame_size * sample_rate)\n",
    "        hop_length = int(frame_stride * sample_rate)\n",
    "        \n",
    "        # Extract MFCC features; result shape is (n_mfcc, T) where T is number of frames.\n",
    "        mfcc = librosa.feature.mfcc(y=signal, sr=sample_rate, n_mfcc=n_mfcc,\n",
    "                                    n_fft=frame_length, hop_length=hop_length)\n",
    "        \n",
    "        # Normalize the MFCC features along each coefficient dimension.\n",
    "        mfcc_normalized = mfcc - np.mean(mfcc, axis=1, keepdims=True)\n",
    "        \n",
    "        # Transpose to shape (T, n_mfcc) for pooling along the time axis.\n",
    "        mfcc_normalized = mfcc_normalized.T\n",
    "        \n",
    "        # Divide the frames into n_segments segments and compute the average for each segment.\n",
    "        segments = np.array_split(mfcc_normalized, n_segments, axis=0)\n",
    "        pooled_features = np.array([np.mean(seg, axis=0) for seg in segments])\n",
    "        \n",
    "        return pooled_features  # Shape: (n_segments, 39)\n",
    "    \n",
    "    except Exception as e:\n",
    "        print(f\"Error processing file {file_path}: {e}\")\n",
    "    return np.array([])\n",
    "\n",
    "def process_directory_mfcc(directory: str, n_segments: int = 10) -> Dict[str, np.ndarray]:\n",
    "    \"\"\"\n",
    "    Processes all .wav files in the given directory, extracting their MFCC features\n",
    "    using average pooling to produce an n x 39 feature matrix for each file.\n",
    "    \n",
    "    Parameters:\n",
    "      directory (str): Path to the directory containing .wav files.\n",
    "      n_segments (int): Number of segments to pool the frames into for each file.\n",
    "    \n",
    "    Returns:\n",
    "      Dict[str, np.ndarray]: A dictionary mapping filenames to their corresponding feature matrices.\n",
    "    \"\"\"\n",
    "    feature_vectors = {}\n",
    "    for filename in os.listdir(directory):\n",
    "        if filename.endswith('.wav'):\n",
    "            file_path = os.path.join(directory, filename)\n",
    "            features = extract_mfcc_features(file_path, n_segments=n_segments)\n",
    "            if features.size > 0:\n",
    "                feature_vectors[filename] = features\n",
    "    return feature_vectors\n"
   ]
  },
  {
   "cell_type": "code",
   "execution_count": 76,
   "metadata": {},
   "outputs": [
    {
     "data": {
      "text/plain": [
       "535"
      ]
     },
     "execution_count": 76,
     "metadata": {},
     "output_type": "execute_result"
    }
   ],
   "source": [
    "n = 85\n",
    "mfccFeatures = process_directory_mfcc(directory, n)\n",
    "\n",
    "len(mfccFeatures)"
   ]
  },
  {
   "cell_type": "code",
   "execution_count": 77,
   "metadata": {},
   "outputs": [
    {
     "name": "stdout",
     "output_type": "stream",
     "text": [
      "(85, 39)\n",
      "(85, 39)\n"
     ]
    }
   ],
   "source": [
    "print(mfccFeatures[\"03a01Fa.wav\"].shape)\n",
    "print(mfccFeatures[\"03a02Fc.wav\"].shape)"
   ]
  },
  {
   "cell_type": "markdown",
   "metadata": {},
   "source": [
    "## Classifier on MFCC"
   ]
  },
  {
   "cell_type": "code",
   "execution_count": 78,
   "metadata": {},
   "outputs": [],
   "source": [
    "import os\n",
    "import pandas as pd\n",
    "import numpy as np\n",
    "import joblib\n",
    "from sklearn.model_selection import train_test_split\n",
    "from sklearn.mixture import GaussianMixture\n",
    "from sklearn.svm import SVC\n",
    "from sklearn.metrics import accuracy_score, classification_report\n",
    "\n",
    "\n",
    "def load_labels(csv_file: str) -> pd.DataFrame:\n",
    "    return pd.read_csv(csv_file)\n",
    "\n",
    "def prepare_dataset(features: dict, labels: pd.DataFrame):\n",
    "    \"\"\"\n",
    "    Constructs the dataset by matching each audio file's feature matrix with its label.\n",
    "    Since each file is represented as an n x 39 matrix (n segments by 39 features),\n",
    "    we flatten it into a 1D feature vector of length n*39.\n",
    "    \"\"\"\n",
    "    X = []\n",
    "    y = []\n",
    "    for _, row in labels.iterrows():\n",
    "        file_id = row['Filename']\n",
    "        if file_id in features:\n",
    "            # Flatten the (n, 39) matrix to a 1D vector (n*39,)\n",
    "            feature_matrix = features[file_id]\n",
    "            feature_vector = feature_matrix.flatten()\n",
    "            X.append(feature_vector)\n",
    "            y.append(int(row['EmotionNumeric']))\n",
    "    return np.array(X), np.array(y)\n",
    "\n",
    "def train_and_evaluate(X, y):\n",
    "    # Split data into training and testing sets\n",
    "    X_train, X_test, y_train, y_test = train_test_split(X, y, test_size=0.2, random_state=42)\n",
    "\n",
    "    # Train GMM Classifier\n",
    "    gmm_model = GaussianMixture(n_components=len(np.unique(y)), random_state=42)\n",
    "    gmm_model.fit(X_train)\n",
    "    gmm_predictions = gmm_model.predict(X_test)\n",
    "\n",
    "    # Train SVM Classifier\n",
    "    svm_model = SVC(kernel='linear', random_state=42)\n",
    "    svm_model.fit(X_train, y_train)\n",
    "    svm_predictions = svm_model.predict(X_test)\n",
    "\n",
    "    # Evaluate classifiers\n",
    "    print(\"GMM Classifier Report:\")\n",
    "    print(classification_report(y_test, gmm_predictions))\n",
    "\n",
    "    print(\"SVM Classifier Report:\")\n",
    "    print(classification_report(y_test, svm_predictions))\n",
    "\n",
    "    # Optionally save models\n",
    "    # joblib.dump(gmm_model, 'gmm_model.pkl')\n",
    "    # joblib.dump(svm_model, 'svm_model.pkl')"
   ]
  },
  {
   "cell_type": "code",
   "execution_count": 79,
   "metadata": {},
   "outputs": [
    {
     "name": "stdout",
     "output_type": "stream",
     "text": [
      "Dataset shape: (535, 3315)\n"
     ]
    },
    {
     "name": "stderr",
     "output_type": "stream",
     "text": [
      "c:\\Users\\sanni\\miniconda3\\envs\\coding2\\lib\\site-packages\\sklearn\\cluster\\_kmeans.py:1429: UserWarning: KMeans is known to have a memory leak on Windows with MKL, when there are less chunks than available threads. You can avoid it by setting the environment variable OMP_NUM_THREADS=2.\n",
      "  warnings.warn(\n"
     ]
    },
    {
     "name": "stdout",
     "output_type": "stream",
     "text": [
      "GMM Classifier Report:\n",
      "              precision    recall  f1-score   support\n",
      "\n",
      "           0       0.00      0.00      0.00        18\n",
      "           1       0.00      0.00      0.00        20\n",
      "           2       0.11      0.25      0.15        12\n",
      "           3       0.15      0.21      0.18        14\n",
      "           4       0.06      0.06      0.06        18\n",
      "           5       0.09      0.22      0.12         9\n",
      "           6       0.15      0.12      0.14        16\n",
      "\n",
      "    accuracy                           0.10       107\n",
      "   macro avg       0.08      0.12      0.09       107\n",
      "weighted avg       0.07      0.10      0.08       107\n",
      "\n",
      "SVM Classifier Report:\n",
      "              precision    recall  f1-score   support\n",
      "\n",
      "           0       0.48      0.78      0.60        18\n",
      "           1       0.75      0.60      0.67        20\n",
      "           2       0.50      0.08      0.14        12\n",
      "           3       0.33      0.29      0.31        14\n",
      "           4       0.67      0.56      0.61        18\n",
      "           5       0.50      1.00      0.67         9\n",
      "           6       0.60      0.56      0.58        16\n",
      "\n",
      "    accuracy                           0.55       107\n",
      "   macro avg       0.55      0.55      0.51       107\n",
      "weighted avg       0.57      0.55      0.53       107\n",
      "\n"
     ]
    }
   ],
   "source": [
    "labels_csv_path = \"EmoDB_dataset/emotion_mapping_detailed.csv\"\n",
    "labels = load_labels(labels_csv_path)\n",
    "\n",
    "# Prepare the dataset: each feature matrix is flattened to become a vector\n",
    "X, y = prepare_dataset(mfccFeatures, labels)\n",
    "print(\"Dataset shape:\", X.shape)\n",
    "\n",
    "train_and_evaluate(X, y)\n"
   ]
  },
  {
   "cell_type": "code",
   "execution_count": null,
   "metadata": {},
   "outputs": [],
   "source": []
  }
 ],
 "metadata": {
  "kernelspec": {
   "display_name": "coding2",
   "language": "python",
   "name": "python3"
  },
  "language_info": {
   "codemirror_mode": {
    "name": "ipython",
    "version": 3
   },
   "file_extension": ".py",
   "mimetype": "text/x-python",
   "name": "python",
   "nbconvert_exporter": "python",
   "pygments_lexer": "ipython3",
   "version": "3.10.15"
  }
 },
 "nbformat": 4,
 "nbformat_minor": 2
}
