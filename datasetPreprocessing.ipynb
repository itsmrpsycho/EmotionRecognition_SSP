{
 "cells": [
  {
   "cell_type": "code",
   "execution_count": 13,
   "metadata": {},
   "outputs": [],
   "source": [
    "directory = './EmoDB_dataset/wav'"
   ]
  },
  {
   "cell_type": "markdown",
   "metadata": {},
   "source": [
    "# CSV creation for mapping"
   ]
  },
  {
   "cell_type": "code",
   "execution_count": 16,
   "metadata": {},
   "outputs": [],
   "source": [
    "import os\n",
    "import pandas as pd\n",
    "import numpy as np\n",
    "import joblib\n",
    "from sklearn.model_selection import train_test_split\n",
    "from sklearn.mixture import GaussianMixture\n",
    "from sklearn.svm import SVC\n",
    "from sklearn.metrics import accuracy_score, classification_report\n",
    "\n",
    "\n",
    "# Emotion mapping based on file naming convention\n",
    "EMOTION_MAP = {\n",
    "    'W': 'Anger',\n",
    "    'L': 'Boredom',\n",
    "    'E': 'Disgust',\n",
    "    'A': 'Anxiety/Fear',\n",
    "    'F': 'Happiness',\n",
    "    'T': 'Sadness',\n",
    "    'N': 'Neutral'\n",
    "}\n",
    "\n",
    "# Numeric encoding for emotions\n",
    "EMOTION_NUMERIC = {emotion: idx for idx, emotion in enumerate(EMOTION_MAP.values())}\n",
    "\n",
    "# Speaker Information mapping\n",
    "SPEAKER_INFO = {\n",
    "    '03': ('Male', 31),\n",
    "    '08': ('Female', 34),\n",
    "    '09': ('Female', 21),\n",
    "    '10': ('Male', 32),\n",
    "    '11': ('Male', 26),\n",
    "    '12': ('Male', 30),\n",
    "    '13': ('Female', 32),\n",
    "    '14': ('Female', 35),\n",
    "    '15': ('Male', 25),\n",
    "    '16': ('Female', 31)\n",
    "}\n",
    "\n",
    "def parse_filename(filename: str):\n",
    "    \"\"\"\n",
    "    Parse the filename and extract relevant information.\n",
    "    \"\"\"\n",
    "    speaker_id = filename[:2]\n",
    "    text_code = filename[2:5]\n",
    "    emotion_code = filename[5]\n",
    "    version = filename[6] if len(filename) > 6 and filename[6].isalpha() else 'a'\n",
    "\n",
    "    speaker_info = SPEAKER_INFO.get(speaker_id, ('Unknown', 'Unknown'))\n",
    "    emotion = EMOTION_MAP.get(emotion_code, 'Unknown')\n",
    "    emotion_numeric = EMOTION_NUMERIC.get(emotion, -1)\n",
    "\n",
    "    return {\n",
    "        'Filename': filename,\n",
    "        'Speaker ID': speaker_id,\n",
    "        'Speaker Gender': speaker_info[0],\n",
    "        'Speaker Age': speaker_info[1],\n",
    "        'Text Code': text_code,\n",
    "        'Emotion Code': emotion_code,\n",
    "        'Emotion (English)': emotion,\n",
    "        'Emotion Numeric': emotion_numeric,\n",
    "        'Version': version\n",
    "    }\n",
    "\n",
    "def create_detailed_mapping_csv(directory: str, output_file: str = 'emotion_mapping_detailed.csv') -> None:\n",
    "    \"\"\"\n",
    "    Creates a CSV file with detailed mapping of audio files.\n",
    "    \"\"\"\n",
    "    data = []\n",
    "\n",
    "    for filename in os.listdir(directory):\n",
    "        if filename.endswith('.wav'):\n",
    "            file_info = parse_filename(filename)\n",
    "            data.append(file_info)\n",
    "\n",
    "    # Convert to DataFrame and save to CSV\n",
    "    df = pd.DataFrame(data)\n",
    "    df.to_csv(output_file, index=False)\n",
    "    print(f\"CSV file '{output_file}' created successfully.\")\n"
   ]
  },
  {
   "cell_type": "code",
   "execution_count": 17,
   "metadata": {},
   "outputs": [
    {
     "name": "stdout",
     "output_type": "stream",
     "text": [
      "CSV file 'emotion_mapping_detailed.csv' created successfully.\n"
     ]
    }
   ],
   "source": [
    "create_detailed_mapping_csv(directory)"
   ]
  },
  {
   "cell_type": "markdown",
   "metadata": {},
   "source": [
    "# Histogram of durations"
   ]
  },
  {
   "cell_type": "code",
   "execution_count": 1,
   "metadata": {},
   "outputs": [
    {
     "data": {
      "image/png": "[encoded data removed]",
      "text/plain": [
       "<Figure size 1000x600 with 1 Axes>"
      ]
     },
     "metadata": {},
     "output_type": "display_data"
    }
   ],
   "source": [
    "import os\n",
    "import wave\n",
    "import contextlib\n",
    "import matplotlib.pyplot as plt\n",
    "from typing import List\n",
    "\n",
    "\n",
    "def get_audio_durations(directory: str) -> List[float]:\n",
    "    durations = []\n",
    "    for filename in os.listdir(directory):\n",
    "        if filename.endswith('.wav'):\n",
    "            file_path = os.path.join(directory, filename)\n",
    "            with contextlib.closing(wave.open(file_path, 'r')) as f:\n",
    "                frames = f.getnframes()\n",
    "                rate = f.getframerate()\n",
    "                duration = frames / float(rate)\n",
    "                durations.append(duration)\n",
    "    return durations\n",
    "\n",
    "\n",
    "def plot_histogram(durations: List[float], bin_width: float = 1.0):\n",
    "    plt.figure(figsize=(10, 6))\n",
    "    plt.hist(durations, bins=int((max(durations) - min(durations)) / bin_width), edgecolor='black')\n",
    "    plt.title('Audio File Durations Histogram')\n",
    "    plt.xlabel('Duration (seconds)')\n",
    "    plt.ylabel('Frequency')\n",
    "    plt.grid(True)\n",
    "    plt.show()\n",
    "\n",
    "\n",
    "\n",
    "bin_width = 0.25\n",
    "\n",
    "durations = get_audio_durations(directory)\n",
    "if not durations:\n",
    "    print('No .wav files found in the specified directory.')\n",
    "    return\n",
    "\n",
    "plot_histogram(durations, bin_width)\n"
   ]
  },
  {
   "cell_type": "code",
   "execution_count": 11,
   "metadata": {},
   "outputs": [
    {
     "data": {
      "text/plain": [
       "13"
      ]
     },
     "execution_count": 11,
     "metadata": {},
     "output_type": "execute_result"
    }
   ],
   "source": []
  }
 ],
 "metadata": {
  "kernelspec": {
   "display_name": "coding2",
   "language": "python",
   "name": "python3"
  },
  "language_info": {
   "codemirror_mode": {
    "name": "ipython",
    "version": 3
   },
   "file_extension": ".py",
   "mimetype": "text/x-python",
   "name": "python",
   "nbconvert_exporter": "python",
   "pygments_lexer": "ipython3",
   "version": "3.10.15"
  }
 },
 "nbformat": 4,
 "nbformat_minor": 2
}
