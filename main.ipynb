{
 "cells": [
  {
   "cell_type": "code",
   "execution_count": 1,
   "metadata": {},
   "outputs": [],
   "source": [
    "directory = './EmoDB_dataset/wav'"
   ]
  },
  {
   "cell_type": "markdown",
   "metadata": {},
   "source": [
    "# MFCC features"
   ]
  },
  {
   "cell_type": "markdown",
   "metadata": {},
   "source": [
    "# to do: global normalisation"
   ]
  },
  {
   "cell_type": "markdown",
   "metadata": {},
   "source": [
    "## Feature extraction"
   ]
  },
  {
   "cell_type": "code",
   "execution_count": 2,
   "metadata": {},
   "outputs": [],
   "source": [
    "import os\n",
    "import librosa\n",
    "import numpy as np\n",
    "from typing import Dict\n",
    "\n",
    "def extract_mfcc_features(file_path: str, n_mfcc: int = 39, \n",
    "                          frame_size: float = 0.025, frame_stride: float = 0.01, \n",
    "                          n_segments: int = 10) -> np.ndarray:\n",
    "    \"\"\"\n",
    "    Extracts 39 MFCC features framewise from an audio file and then applies\n",
    "    average pooling to condense the features over time into an n x 39 feature matrix.\n",
    "    \n",
    "    Parameters:\n",
    "      file_path (str): Path to the audio file.\n",
    "      n_mfcc (int): Number of MFCC features to extract. Default is 39.\n",
    "      frame_size (float): Length of each frame in seconds. Default is 0.025.\n",
    "      frame_stride (float): Step between successive frames in seconds. Default is 0.01.\n",
    "      n_segments (int): Number of segments (n) to pool the frames into.\n",
    "    \n",
    "    Returns:\n",
    "      np.ndarray: A n x 39 array where each row is the average MFCC vector for that segment.\n",
    "    \"\"\"\n",
    "    try:\n",
    "        signal, sample_rate = librosa.load(file_path, sr=None)\n",
    "        frame_length = int(frame_size * sample_rate)\n",
    "        hop_length = int(frame_stride * sample_rate)\n",
    "        \n",
    "        # Extract MFCC features; result shape is (n_mfcc, T) where T is number of frames.\n",
    "        mfcc = librosa.feature.mfcc(y=signal, sr=sample_rate, n_mfcc=n_mfcc,\n",
    "                                    n_fft=frame_length, hop_length=hop_length)\n",
    "        \n",
    "        # Normalize the MFCC features along each coefficient dimension.\n",
    "        mfcc_normalized = mfcc - np.mean(mfcc, axis=1, keepdims=True)\n",
    "        \n",
    "        # Transpose to shape (T, n_mfcc) for pooling along the time axis.\n",
    "        mfcc_normalized = mfcc_normalized.T\n",
    "        \n",
    "        # Divide the frames into n_segments segments and compute the average for each segment.\n",
    "        segments = np.array_split(mfcc_normalized, n_segments, axis=0)\n",
    "        pooled_features = np.array([np.mean(seg, axis=0) for seg in segments])\n",
    "        \n",
    "        return pooled_features  # Shape: (n_segments, 39)\n",
    "    \n",
    "    except Exception as e:\n",
    "        print(f\"Error processing file {file_path}: {e}\")\n",
    "    return np.array([])\n",
    "\n",
    "def process_directory_mfcc(directory: str, n_segments: int = 10) -> Dict[str, np.ndarray]:\n",
    "    \"\"\"\n",
    "    Processes all .wav files in the given directory, extracting their MFCC features\n",
    "    using average pooling to produce an n x 39 feature matrix for each file.\n",
    "    \n",
    "    Parameters:\n",
    "      directory (str): Path to the directory containing .wav files.\n",
    "      n_segments (int): Number of segments to pool the frames into for each file.\n",
    "    \n",
    "    Returns:\n",
    "      Dict[str, np.ndarray]: A dictionary mapping filenames to their corresponding feature matrices.\n",
    "    \"\"\"\n",
    "    feature_vectors = {}\n",
    "    for filename in os.listdir(directory):\n",
    "        if filename.endswith('.wav'):\n",
    "            file_path = os.path.join(directory, filename)\n",
    "            features = extract_mfcc_features(file_path, n_segments=n_segments)\n",
    "            if features.size > 0:\n",
    "                feature_vectors[filename] = features\n",
    "    return feature_vectors\n"
   ]
  },
  {
   "cell_type": "markdown",
   "metadata": {},
   "source": [
    "## Classifier on MFCC"
   ]
  },
  {
   "cell_type": "code",
   "execution_count": 3,
   "metadata": {},
   "outputs": [],
   "source": [
    "import os\n",
    "import pandas as pd\n",
    "import numpy as np\n",
    "import joblib\n",
    "from sklearn.model_selection import train_test_split\n",
    "from sklearn.mixture import GaussianMixture\n",
    "from sklearn.svm import SVC\n",
    "from sklearn.metrics import accuracy_score, classification_report\n",
    "\n",
    "\n",
    "def load_labels(csv_file: str) -> pd.DataFrame:\n",
    "    return pd.read_csv(csv_file)\n",
    "\n",
    "def prepare_dataset(features: dict, labels: pd.DataFrame):\n",
    "    \"\"\"\n",
    "    Constructs the dataset by matching each audio file's feature matrix with its label.\n",
    "    Since each file is represented as an n x 39 matrix (n segments by 39 features),\n",
    "    we flatten it into a 1D feature vector of length n*39.\n",
    "    \"\"\"\n",
    "    X = []\n",
    "    y = []\n",
    "    for _, row in labels.iterrows():\n",
    "        file_id = row['Filename']\n",
    "        if file_id in features:\n",
    "            # Flatten the (n, 39) matrix to a 1D vector (n*39,)\n",
    "            feature_matrix = features[file_id]\n",
    "            feature_vector = feature_matrix.flatten()\n",
    "            X.append(feature_vector)\n",
    "            y.append(int(row['EmotionNumeric']))\n",
    "    return np.array(X), np.array(y)\n",
    "\n",
    "\n",
    "def train_and_evaluate(X, y):\n",
    "    X_train, X_test, y_train, y_test = train_test_split(X, y, test_size=0.2, random_state=42)\n",
    "\n",
    "    # GMM Classifier\n",
    "    gmm_model = GaussianMixture(n_components=len(np.unique(y)), random_state=42)\n",
    "    gmm_model.fit(X_train)\n",
    "    gmm_predictions = gmm_model.predict(X_test)\n",
    "\n",
    "    gmm_acc = accuracy_score(y_test, gmm_predictions)\n",
    "    print(\"GMM Classifier Report:\")\n",
    "    print(classification_report(y_test, gmm_predictions))\n",
    "\n",
    "    # SVM Classifier\n",
    "    svm_model = SVC(kernel='linear', random_state=42)\n",
    "    svm_model.fit(X_train, y_train)\n",
    "    svm_predictions = svm_model.predict(X_test)\n",
    "\n",
    "    svm_acc = accuracy_score(y_test, svm_predictions)\n",
    "    print(\"SVM Classifier Report:\")\n",
    "    print(classification_report(y_test, svm_predictions))\n",
    "\n",
    "    return gmm_acc, svm_acc\n"
   ]
  },
  {
   "cell_type": "markdown",
   "metadata": {},
   "source": [
    "# Wandb"
   ]
  },
  {
   "cell_type": "code",
   "execution_count": 4,
   "metadata": {},
   "outputs": [],
   "source": [
    "import wandb\n",
    "# import numpy as np\n",
    "\n",
    "# def sweep_run(config=None):\n",
    "#     with wandb.init(config=config):\n",
    "#         config = wandb.config\n",
    "\n",
    "#         # 1. Read the current sweep value of n_mfcc\n",
    "#         n = config.n_mfcc\n",
    "#         mfccFeatures = process_directory_mfcc(directory, n)\n",
    "\n",
    "#         # 2. Load labels\n",
    "#         labels_csv_path = \"EmoDB_dataset/emotion_mapping_detailed.csv\"\n",
    "#         labels = load_labels(labels_csv_path)\n",
    "\n",
    "#         # 3. Prepare dataset\n",
    "#         X, y = prepare_dataset(mfccFeatures, labels)\n",
    "\n",
    "#         # 4. Train both GMM and SVM\n",
    "#         gmm_acc, svm_acc = train_and_evaluate(X, y)\n",
    "\n",
    "#         # 5. Log SCALAR values — not lists\n",
    "#         wandb.log({\n",
    "#             \"n_mfcc\": n,\n",
    "#             \"gmm_accuracy\": gmm_acc,\n",
    "#             \"svm_accuracy\": svm_acc,\n",
    "#             \"feature_dim\": X.shape[1]\n",
    "#         })\n",
    "\n",
    "\n",
    "# # Sweep config\n",
    "# sweep_config = {\n",
    "#     'method': 'grid',\n",
    "#     'metric': {\n",
    "#         'name': 'accuracies',  # You can also choose 'gmm_accuracies'\n",
    "#         'goal': 'maximize'\n",
    "#     },\n",
    "#     'parameters': {\n",
    "#         'n_mfcc': {\n",
    "#             'values': np.arange(10, 120, 5).tolist()\n",
    "#         }\n",
    "#     }\n",
    "# }\n",
    "\n",
    "# # Launch the sweep\n",
    "# sweep_id = wandb.sweep(sweep_config, project='ssp-mfcc-tuning-WithoutSilenceRemoval')\n",
    "# wandb.agent(sweep_id, function=sweep_run)\n",
    "\n"
   ]
  },
  {
   "cell_type": "code",
   "execution_count": 6,
   "metadata": {},
   "outputs": [
    {
     "data": {
      "text/html": [
       "Tracking run with wandb version 0.19.9"
      ],
      "text/plain": [
       "<IPython.core.display.HTML object>"
      ]
     },
     "metadata": {},
     "output_type": "display_data"
    },
    {
     "data": {
      "text/html": [
       "Run data is saved locally in <code>f:\\Study\\4-2\\SSP\\SSP_Project\\EmotionRecognition_SSP\\wandb\\run-20250403_135548-smmg6g5t</code>"
      ],
      "text/plain": [
       "<IPython.core.display.HTML object>"
      ]
     },
     "metadata": {},
     "output_type": "display_data"
    },
    {
     "data": {
      "text/html": [
       "Syncing run <strong><a href='https://wandb.ai/its_mrpsycho/ssp-mfcc-tuning-WithoutSilenceRemoval/runs/smmg6g5t' target=\"_blank\">n_mfcc_sweep_single_run</a></strong> to <a href='https://wandb.ai/its_mrpsycho/ssp-mfcc-tuning-WithoutSilenceRemoval' target=\"_blank\">Weights & Biases</a> (<a href='https://wandb.me/developer-guide' target=\"_blank\">docs</a>)<br>"
      ],
      "text/plain": [
       "<IPython.core.display.HTML object>"
      ]
     },
     "metadata": {},
     "output_type": "display_data"
    },
    {
     "data": {
      "text/html": [
       " View project at <a href='https://wandb.ai/its_mrpsycho/ssp-mfcc-tuning-WithoutSilenceRemoval' target=\"_blank\">https://wandb.ai/its_mrpsycho/ssp-mfcc-tuning-WithoutSilenceRemoval</a>"
      ],
      "text/plain": [
       "<IPython.core.display.HTML object>"
      ]
     },
     "metadata": {},
     "output_type": "display_data"
    },
    {
     "data": {
      "text/html": [
       " View run at <a href='https://wandb.ai/its_mrpsycho/ssp-mfcc-tuning-WithoutSilenceRemoval/runs/smmg6g5t' target=\"_blank\">https://wandb.ai/its_mrpsycho/ssp-mfcc-tuning-WithoutSilenceRemoval/runs/smmg6g5t</a>"
      ],
      "text/plain": [
       "<IPython.core.display.HTML object>"
      ]
     },
     "metadata": {},
     "output_type": "display_data"
    },
    {
     "name": "stderr",
     "output_type": "stream",
     "text": [
      "c:\\Users\\sanni\\miniconda3\\envs\\coding2\\lib\\site-packages\\sklearn\\cluster\\_kmeans.py:1429: UserWarning: KMeans is known to have a memory leak on Windows with MKL, when there are less chunks than available threads. You can avoid it by setting the environment variable OMP_NUM_THREADS=2.\n",
      "  warnings.warn(\n",
      "c:\\Users\\sanni\\miniconda3\\envs\\coding2\\lib\\site-packages\\sklearn\\metrics\\_classification.py:1531: UndefinedMetricWarning: Precision is ill-defined and being set to 0.0 in labels with no predicted samples. Use `zero_division` parameter to control this behavior.\n",
      "  _warn_prf(average, modifier, f\"{metric.capitalize()} is\", len(result))\n",
      "c:\\Users\\sanni\\miniconda3\\envs\\coding2\\lib\\site-packages\\sklearn\\metrics\\_classification.py:1531: UndefinedMetricWarning: Precision is ill-defined and being set to 0.0 in labels with no predicted samples. Use `zero_division` parameter to control this behavior.\n",
      "  _warn_prf(average, modifier, f\"{metric.capitalize()} is\", len(result))\n",
      "c:\\Users\\sanni\\miniconda3\\envs\\coding2\\lib\\site-packages\\sklearn\\metrics\\_classification.py:1531: UndefinedMetricWarning: Precision is ill-defined and being set to 0.0 in labels with no predicted samples. Use `zero_division` parameter to control this behavior.\n",
      "  _warn_prf(average, modifier, f\"{metric.capitalize()} is\", len(result))\n",
      "c:\\Users\\sanni\\miniconda3\\envs\\coding2\\lib\\site-packages\\sklearn\\metrics\\_classification.py:1531: UndefinedMetricWarning: Precision is ill-defined and being set to 0.0 in labels with no predicted samples. Use `zero_division` parameter to control this behavior.\n",
      "  _warn_prf(average, modifier, f\"{metric.capitalize()} is\", len(result))\n",
      "c:\\Users\\sanni\\miniconda3\\envs\\coding2\\lib\\site-packages\\sklearn\\metrics\\_classification.py:1531: UndefinedMetricWarning: Precision is ill-defined and being set to 0.0 in labels with no predicted samples. Use `zero_division` parameter to control this behavior.\n",
      "  _warn_prf(average, modifier, f\"{metric.capitalize()} is\", len(result))\n",
      "c:\\Users\\sanni\\miniconda3\\envs\\coding2\\lib\\site-packages\\sklearn\\metrics\\_classification.py:1531: UndefinedMetricWarning: Precision is ill-defined and being set to 0.0 in labels with no predicted samples. Use `zero_division` parameter to control this behavior.\n",
      "  _warn_prf(average, modifier, f\"{metric.capitalize()} is\", len(result))\n"
     ]
    },
    {
     "name": "stdout",
     "output_type": "stream",
     "text": [
      "GMM Classifier Report:\n",
      "              precision    recall  f1-score   support\n",
      "\n",
      "           0       0.00      0.00      0.00        18\n",
      "           1       0.19      1.00      0.31        20\n",
      "           2       0.00      0.00      0.00        12\n",
      "           3       0.00      0.00      0.00        14\n",
      "           4       0.00      0.00      0.00        18\n",
      "           5       0.00      0.00      0.00         9\n",
      "           6       0.00      0.00      0.00        16\n",
      "\n",
      "    accuracy                           0.19       107\n",
      "   macro avg       0.03      0.14      0.04       107\n",
      "weighted avg       0.03      0.19      0.06       107\n",
      "\n",
      "SVM Classifier Report:\n",
      "              precision    recall  f1-score   support\n",
      "\n",
      "           0       0.17      1.00      0.29        18\n",
      "           1       0.00      0.00      0.00        20\n",
      "           2       0.00      0.00      0.00        12\n",
      "           3       0.00      0.00      0.00        14\n",
      "           4       0.00      0.00      0.00        18\n",
      "           5       0.00      0.00      0.00         9\n",
      "           6       0.00      0.00      0.00        16\n",
      "\n",
      "    accuracy                           0.17       107\n",
      "   macro avg       0.02      0.14      0.04       107\n",
      "weighted avg       0.03      0.17      0.05       107\n",
      "\n"
     ]
    },
    {
     "name": "stderr",
     "output_type": "stream",
     "text": [
      "c:\\Users\\sanni\\miniconda3\\envs\\coding2\\lib\\site-packages\\sklearn\\cluster\\_kmeans.py:1429: UserWarning: KMeans is known to have a memory leak on Windows with MKL, when there are less chunks than available threads. You can avoid it by setting the environment variable OMP_NUM_THREADS=2.\n",
      "  warnings.warn(\n"
     ]
    },
    {
     "name": "stdout",
     "output_type": "stream",
     "text": [
      "GMM Classifier Report:\n",
      "              precision    recall  f1-score   support\n",
      "\n",
      "           0       0.13      0.11      0.12        18\n",
      "           1       0.00      0.00      0.00        20\n",
      "           2       0.00      0.00      0.00        12\n",
      "           3       0.20      0.29      0.24        14\n",
      "           4       0.25      0.06      0.09        18\n",
      "           5       0.08      0.44      0.14         9\n",
      "           6       0.08      0.06      0.07        16\n",
      "\n",
      "    accuracy                           0.11       107\n",
      "   macro avg       0.11      0.14      0.09       107\n",
      "weighted avg       0.11      0.11      0.09       107\n",
      "\n",
      "SVM Classifier Report:\n",
      "              precision    recall  f1-score   support\n",
      "\n",
      "           0       0.43      0.67      0.52        18\n",
      "           1       0.83      0.75      0.79        20\n",
      "           2       0.29      0.17      0.21        12\n",
      "           3       0.36      0.36      0.36        14\n",
      "           4       0.62      0.56      0.59        18\n",
      "           5       0.60      0.67      0.63         9\n",
      "           6       0.50      0.44      0.47        16\n",
      "\n",
      "    accuracy                           0.53       107\n",
      "   macro avg       0.52      0.51      0.51       107\n",
      "weighted avg       0.54      0.53      0.53       107\n",
      "\n"
     ]
    },
    {
     "name": "stderr",
     "output_type": "stream",
     "text": [
      "c:\\Users\\sanni\\miniconda3\\envs\\coding2\\lib\\site-packages\\sklearn\\cluster\\_kmeans.py:1429: UserWarning: KMeans is known to have a memory leak on Windows with MKL, when there are less chunks than available threads. You can avoid it by setting the environment variable OMP_NUM_THREADS=2.\n",
      "  warnings.warn(\n"
     ]
    },
    {
     "name": "stdout",
     "output_type": "stream",
     "text": [
      "GMM Classifier Report:\n",
      "              precision    recall  f1-score   support\n",
      "\n",
      "           0       0.33      0.06      0.10        18\n",
      "           1       0.07      0.05      0.06        20\n",
      "           2       0.00      0.00      0.00        12\n",
      "           3       0.23      0.57      0.33        14\n",
      "           4       0.00      0.00      0.00        18\n",
      "           5       0.19      0.33      0.24         9\n",
      "           6       0.17      0.31      0.22        16\n",
      "\n",
      "    accuracy                           0.17       107\n",
      "   macro avg       0.14      0.19      0.13       107\n",
      "weighted avg       0.14      0.17      0.12       107\n",
      "\n",
      "SVM Classifier Report:\n",
      "              precision    recall  f1-score   support\n",
      "\n",
      "           0       0.46      0.61      0.52        18\n",
      "           1       0.72      0.65      0.68        20\n",
      "           2       0.29      0.17      0.21        12\n",
      "           3       0.25      0.29      0.27        14\n",
      "           4       0.65      0.61      0.63        18\n",
      "           5       0.56      0.56      0.56         9\n",
      "           6       0.50      0.50      0.50        16\n",
      "\n",
      "    accuracy                           0.50       107\n",
      "   macro avg       0.49      0.48      0.48       107\n",
      "weighted avg       0.51      0.50      0.50       107\n",
      "\n"
     ]
    },
    {
     "name": "stderr",
     "output_type": "stream",
     "text": [
      "c:\\Users\\sanni\\miniconda3\\envs\\coding2\\lib\\site-packages\\sklearn\\cluster\\_kmeans.py:1429: UserWarning: KMeans is known to have a memory leak on Windows with MKL, when there are less chunks than available threads. You can avoid it by setting the environment variable OMP_NUM_THREADS=2.\n",
      "  warnings.warn(\n"
     ]
    },
    {
     "name": "stdout",
     "output_type": "stream",
     "text": [
      "GMM Classifier Report:\n",
      "              precision    recall  f1-score   support\n",
      "\n",
      "           0       0.22      0.11      0.15        18\n",
      "           1       0.21      0.70      0.32        20\n",
      "           2       0.29      0.17      0.21        12\n",
      "           3       0.00      0.00      0.00        14\n",
      "           4       0.00      0.00      0.00        18\n",
      "           5       0.00      0.00      0.00         9\n",
      "           6       0.00      0.00      0.00        16\n",
      "\n",
      "    accuracy                           0.17       107\n",
      "   macro avg       0.10      0.14      0.10       107\n",
      "weighted avg       0.11      0.17      0.11       107\n",
      "\n",
      "SVM Classifier Report:\n",
      "              precision    recall  f1-score   support\n",
      "\n",
      "           0       0.41      0.78      0.54        18\n",
      "           1       0.57      0.60      0.59        20\n",
      "           2       0.00      0.00      0.00        12\n",
      "           3       0.29      0.29      0.29        14\n",
      "           4       0.78      0.39      0.52        18\n",
      "           5       0.44      0.44      0.44         9\n",
      "           6       0.57      0.50      0.53        16\n",
      "\n",
      "    accuracy                           0.46       107\n",
      "   macro avg       0.44      0.43      0.42       107\n",
      "weighted avg       0.47      0.46      0.44       107\n",
      "\n"
     ]
    },
    {
     "name": "stderr",
     "output_type": "stream",
     "text": [
      "c:\\Users\\sanni\\miniconda3\\envs\\coding2\\lib\\site-packages\\sklearn\\cluster\\_kmeans.py:1429: UserWarning: KMeans is known to have a memory leak on Windows with MKL, when there are less chunks than available threads. You can avoid it by setting the environment variable OMP_NUM_THREADS=2.\n",
      "  warnings.warn(\n"
     ]
    },
    {
     "name": "stdout",
     "output_type": "stream",
     "text": [
      "GMM Classifier Report:\n",
      "              precision    recall  f1-score   support\n",
      "\n",
      "           0       0.06      0.06      0.06        18\n",
      "           1       0.12      0.15      0.13        20\n",
      "           2       0.00      0.00      0.00        12\n",
      "           3       0.00      0.00      0.00        14\n",
      "           4       0.18      0.28      0.22        18\n",
      "           5       0.00      0.00      0.00         9\n",
      "           6       0.25      0.31      0.28        16\n",
      "\n",
      "    accuracy                           0.13       107\n",
      "   macro avg       0.09      0.11      0.10       107\n",
      "weighted avg       0.10      0.13      0.11       107\n",
      "\n",
      "SVM Classifier Report:\n",
      "              precision    recall  f1-score   support\n",
      "\n",
      "           0       0.42      0.78      0.55        18\n",
      "           1       0.79      0.55      0.65        20\n",
      "           2       0.67      0.17      0.27        12\n",
      "           3       0.43      0.43      0.43        14\n",
      "           4       0.44      0.22      0.30        18\n",
      "           5       0.50      0.89      0.64         9\n",
      "           6       0.44      0.50      0.47        16\n",
      "\n",
      "    accuracy                           0.50       107\n",
      "   macro avg       0.53      0.50      0.47       107\n",
      "weighted avg       0.53      0.50      0.47       107\n",
      "\n"
     ]
    },
    {
     "name": "stderr",
     "output_type": "stream",
     "text": [
      "c:\\Users\\sanni\\miniconda3\\envs\\coding2\\lib\\site-packages\\sklearn\\cluster\\_kmeans.py:1429: UserWarning: KMeans is known to have a memory leak on Windows with MKL, when there are less chunks than available threads. You can avoid it by setting the environment variable OMP_NUM_THREADS=2.\n",
      "  warnings.warn(\n"
     ]
    },
    {
     "name": "stdout",
     "output_type": "stream",
     "text": [
      "GMM Classifier Report:\n",
      "              precision    recall  f1-score   support\n",
      "\n",
      "           0       0.00      0.00      0.00        18\n",
      "           1       0.20      0.05      0.08        20\n",
      "           2       0.18      0.25      0.21        12\n",
      "           3       0.13      0.14      0.14        14\n",
      "           4       0.00      0.00      0.00        18\n",
      "           5       0.00      0.00      0.00         9\n",
      "           6       0.10      0.38      0.15        16\n",
      "\n",
      "    accuracy                           0.11       107\n",
      "   macro avg       0.09      0.12      0.08       107\n",
      "weighted avg       0.09      0.11      0.08       107\n",
      "\n",
      "SVM Classifier Report:\n",
      "              precision    recall  f1-score   support\n",
      "\n",
      "           0       0.44      0.78      0.56        18\n",
      "           1       0.88      0.70      0.78        20\n",
      "           2       0.14      0.08      0.11        12\n",
      "           3       0.15      0.14      0.15        14\n",
      "           4       0.56      0.28      0.37        18\n",
      "           5       0.62      0.89      0.73         9\n",
      "           6       0.53      0.56      0.55        16\n",
      "\n",
      "    accuracy                           0.50       107\n",
      "   macro avg       0.47      0.49      0.46       107\n",
      "weighted avg       0.50      0.50      0.48       107\n",
      "\n"
     ]
    },
    {
     "name": "stderr",
     "output_type": "stream",
     "text": [
      "c:\\Users\\sanni\\miniconda3\\envs\\coding2\\lib\\site-packages\\sklearn\\metrics\\_classification.py:1531: UndefinedMetricWarning: Precision is ill-defined and being set to 0.0 in labels with no predicted samples. Use `zero_division` parameter to control this behavior.\n",
      "  _warn_prf(average, modifier, f\"{metric.capitalize()} is\", len(result))\n",
      "c:\\Users\\sanni\\miniconda3\\envs\\coding2\\lib\\site-packages\\sklearn\\metrics\\_classification.py:1531: UndefinedMetricWarning: Precision is ill-defined and being set to 0.0 in labels with no predicted samples. Use `zero_division` parameter to control this behavior.\n",
      "  _warn_prf(average, modifier, f\"{metric.capitalize()} is\", len(result))\n",
      "c:\\Users\\sanni\\miniconda3\\envs\\coding2\\lib\\site-packages\\sklearn\\metrics\\_classification.py:1531: UndefinedMetricWarning: Precision is ill-defined and being set to 0.0 in labels with no predicted samples. Use `zero_division` parameter to control this behavior.\n",
      "  _warn_prf(average, modifier, f\"{metric.capitalize()} is\", len(result))\n",
      "c:\\Users\\sanni\\miniconda3\\envs\\coding2\\lib\\site-packages\\sklearn\\cluster\\_kmeans.py:1429: UserWarning: KMeans is known to have a memory leak on Windows with MKL, when there are less chunks than available threads. You can avoid it by setting the environment variable OMP_NUM_THREADS=2.\n",
      "  warnings.warn(\n"
     ]
    },
    {
     "name": "stdout",
     "output_type": "stream",
     "text": [
      "GMM Classifier Report:\n",
      "              precision    recall  f1-score   support\n",
      "\n",
      "           0       0.10      0.11      0.11        18\n",
      "           1       0.15      0.20      0.17        20\n",
      "           2       0.25      0.17      0.20        12\n",
      "           3       0.00      0.00      0.00        14\n",
      "           4       0.00      0.00      0.00        18\n",
      "           5       0.50      0.11      0.18         9\n",
      "           6       0.02      0.06      0.03        16\n",
      "\n",
      "    accuracy                           0.09       107\n",
      "   macro avg       0.15      0.09      0.10       107\n",
      "weighted avg       0.12      0.09      0.09       107\n",
      "\n",
      "SVM Classifier Report:\n",
      "              precision    recall  f1-score   support\n",
      "\n",
      "           0       0.42      0.78      0.55        18\n",
      "           1       0.71      0.60      0.65        20\n",
      "           2       0.50      0.08      0.14        12\n",
      "           3       0.33      0.36      0.34        14\n",
      "           4       0.58      0.39      0.47        18\n",
      "           5       0.55      0.67      0.60         9\n",
      "           6       0.47      0.50      0.48        16\n",
      "\n",
      "    accuracy                           0.50       107\n",
      "   macro avg       0.51      0.48      0.46       107\n",
      "weighted avg       0.52      0.50      0.48       107\n",
      "\n"
     ]
    },
    {
     "name": "stderr",
     "output_type": "stream",
     "text": [
      "c:\\Users\\sanni\\miniconda3\\envs\\coding2\\lib\\site-packages\\sklearn\\cluster\\_kmeans.py:1429: UserWarning: KMeans is known to have a memory leak on Windows with MKL, when there are less chunks than available threads. You can avoid it by setting the environment variable OMP_NUM_THREADS=2.\n",
      "  warnings.warn(\n"
     ]
    },
    {
     "name": "stdout",
     "output_type": "stream",
     "text": [
      "GMM Classifier Report:\n",
      "              precision    recall  f1-score   support\n",
      "\n",
      "           0       0.17      0.44      0.25        18\n",
      "           1       0.09      0.10      0.10        20\n",
      "           2       0.06      0.08      0.07        12\n",
      "           3       0.00      0.00      0.00        14\n",
      "           4       0.00      0.00      0.00        18\n",
      "           5       0.00      0.00      0.00         9\n",
      "           6       0.09      0.06      0.07        16\n",
      "\n",
      "    accuracy                           0.11       107\n",
      "   macro avg       0.06      0.10      0.07       107\n",
      "weighted avg       0.07      0.11      0.08       107\n",
      "\n",
      "SVM Classifier Report:\n",
      "              precision    recall  f1-score   support\n",
      "\n",
      "           0       0.43      0.72      0.54        18\n",
      "           1       0.78      0.70      0.74        20\n",
      "           2       0.33      0.08      0.13        12\n",
      "           3       0.40      0.29      0.33        14\n",
      "           4       0.47      0.39      0.42        18\n",
      "           5       0.56      1.00      0.72         9\n",
      "           6       0.47      0.44      0.45        16\n",
      "\n",
      "    accuracy                           0.51       107\n",
      "   macro avg       0.49      0.52      0.48       107\n",
      "weighted avg       0.50      0.51      0.49       107\n",
      "\n"
     ]
    },
    {
     "name": "stderr",
     "output_type": "stream",
     "text": [
      "c:\\Users\\sanni\\miniconda3\\envs\\coding2\\lib\\site-packages\\sklearn\\cluster\\_kmeans.py:1429: UserWarning: KMeans is known to have a memory leak on Windows with MKL, when there are less chunks than available threads. You can avoid it by setting the environment variable OMP_NUM_THREADS=2.\n",
      "  warnings.warn(\n"
     ]
    },
    {
     "name": "stdout",
     "output_type": "stream",
     "text": [
      "GMM Classifier Report:\n",
      "              precision    recall  f1-score   support\n",
      "\n",
      "           0       0.26      0.44      0.33        18\n",
      "           1       0.11      0.05      0.07        20\n",
      "           2       0.00      0.00      0.00        12\n",
      "           3       0.14      0.36      0.20        14\n",
      "           4       0.10      0.06      0.07        18\n",
      "           5       0.00      0.00      0.00         9\n",
      "           6       0.33      0.31      0.32        16\n",
      "\n",
      "    accuracy                           0.19       107\n",
      "   macro avg       0.14      0.17      0.14       107\n",
      "weighted avg       0.15      0.19      0.15       107\n",
      "\n",
      "SVM Classifier Report:\n",
      "              precision    recall  f1-score   support\n",
      "\n",
      "           0       0.38      0.67      0.48        18\n",
      "           1       0.74      0.70      0.72        20\n",
      "           2       0.25      0.08      0.12        12\n",
      "           3       0.36      0.36      0.36        14\n",
      "           4       0.40      0.33      0.36        18\n",
      "           5       0.89      0.89      0.89         9\n",
      "           6       0.21      0.19      0.20        16\n",
      "\n",
      "    accuracy                           0.46       107\n",
      "   macro avg       0.46      0.46      0.45       107\n",
      "weighted avg       0.45      0.46      0.44       107\n",
      "\n"
     ]
    },
    {
     "name": "stderr",
     "output_type": "stream",
     "text": [
      "c:\\Users\\sanni\\miniconda3\\envs\\coding2\\lib\\site-packages\\sklearn\\cluster\\_kmeans.py:1429: UserWarning: KMeans is known to have a memory leak on Windows with MKL, when there are less chunks than available threads. You can avoid it by setting the environment variable OMP_NUM_THREADS=2.\n",
      "  warnings.warn(\n"
     ]
    },
    {
     "name": "stdout",
     "output_type": "stream",
     "text": [
      "GMM Classifier Report:\n",
      "              precision    recall  f1-score   support\n",
      "\n",
      "           0       0.20      0.11      0.14        18\n",
      "           1       0.25      0.05      0.08        20\n",
      "           2       0.18      0.25      0.21        12\n",
      "           3       0.00      0.00      0.00        14\n",
      "           4       0.00      0.00      0.00        18\n",
      "           5       0.00      0.00      0.00         9\n",
      "           6       0.19      0.62      0.29        16\n",
      "\n",
      "    accuracy                           0.15       107\n",
      "   macro avg       0.12      0.15      0.10       107\n",
      "weighted avg       0.13      0.15      0.11       107\n",
      "\n",
      "SVM Classifier Report:\n",
      "              precision    recall  f1-score   support\n",
      "\n",
      "           0       0.44      0.78      0.56        18\n",
      "           1       0.64      0.45      0.53        20\n",
      "           2       0.00      0.00      0.00        12\n",
      "           3       0.36      0.29      0.32        14\n",
      "           4       0.54      0.39      0.45        18\n",
      "           5       0.50      0.89      0.64         9\n",
      "           6       0.44      0.50      0.47        16\n",
      "\n",
      "    accuracy                           0.47       107\n",
      "   macro avg       0.42      0.47      0.42       107\n",
      "weighted avg       0.44      0.47      0.44       107\n",
      "\n"
     ]
    },
    {
     "name": "stderr",
     "output_type": "stream",
     "text": [
      "c:\\Users\\sanni\\miniconda3\\envs\\coding2\\lib\\site-packages\\sklearn\\cluster\\_kmeans.py:1429: UserWarning: KMeans is known to have a memory leak on Windows with MKL, when there are less chunks than available threads. You can avoid it by setting the environment variable OMP_NUM_THREADS=2.\n",
      "  warnings.warn(\n"
     ]
    },
    {
     "name": "stdout",
     "output_type": "stream",
     "text": [
      "GMM Classifier Report:\n",
      "              precision    recall  f1-score   support\n",
      "\n",
      "           0       0.00      0.00      0.00        18\n",
      "           1       0.12      0.05      0.07        20\n",
      "           2       0.00      0.00      0.00        12\n",
      "           3       0.29      0.14      0.19        14\n",
      "           4       0.00      0.00      0.00        18\n",
      "           5       0.14      0.33      0.19         9\n",
      "           6       0.16      0.50      0.25        16\n",
      "\n",
      "    accuracy                           0.13       107\n",
      "   macro avg       0.10      0.15      0.10       107\n",
      "weighted avg       0.10      0.13      0.09       107\n",
      "\n",
      "SVM Classifier Report:\n",
      "              precision    recall  f1-score   support\n",
      "\n",
      "           0       0.45      0.78      0.57        18\n",
      "           1       0.50      0.50      0.50        20\n",
      "           2       0.40      0.17      0.24        12\n",
      "           3       0.22      0.14      0.17        14\n",
      "           4       0.42      0.28      0.33        18\n",
      "           5       0.64      0.78      0.70         9\n",
      "           6       0.26      0.31      0.29        16\n",
      "\n",
      "    accuracy                           0.42       107\n",
      "   macro avg       0.41      0.42      0.40       107\n",
      "weighted avg       0.41      0.42      0.40       107\n",
      "\n"
     ]
    },
    {
     "name": "stderr",
     "output_type": "stream",
     "text": [
      "c:\\Users\\sanni\\miniconda3\\envs\\coding2\\lib\\site-packages\\sklearn\\cluster\\_kmeans.py:1429: UserWarning: KMeans is known to have a memory leak on Windows with MKL, when there are less chunks than available threads. You can avoid it by setting the environment variable OMP_NUM_THREADS=2.\n",
      "  warnings.warn(\n"
     ]
    },
    {
     "name": "stdout",
     "output_type": "stream",
     "text": [
      "GMM Classifier Report:\n",
      "              precision    recall  f1-score   support\n",
      "\n",
      "           0       0.14      0.11      0.12        18\n",
      "           1       0.25      0.10      0.14        20\n",
      "           2       0.06      0.08      0.07        12\n",
      "           3       0.13      0.36      0.19        14\n",
      "           4       0.00      0.00      0.00        18\n",
      "           5       0.00      0.00      0.00         9\n",
      "           6       0.08      0.12      0.10        16\n",
      "\n",
      "    accuracy                           0.11       107\n",
      "   macro avg       0.10      0.11      0.09       107\n",
      "weighted avg       0.11      0.11      0.10       107\n",
      "\n",
      "SVM Classifier Report:\n",
      "              precision    recall  f1-score   support\n",
      "\n",
      "           0       0.44      0.67      0.53        18\n",
      "           1       0.59      0.50      0.54        20\n",
      "           2       0.33      0.08      0.13        12\n",
      "           3       0.36      0.36      0.36        14\n",
      "           4       0.50      0.33      0.40        18\n",
      "           5       0.53      1.00      0.69         9\n",
      "           6       0.41      0.44      0.42        16\n",
      "\n",
      "    accuracy                           0.47       107\n",
      "   macro avg       0.45      0.48      0.44       107\n",
      "weighted avg       0.46      0.47      0.44       107\n",
      "\n"
     ]
    },
    {
     "name": "stderr",
     "output_type": "stream",
     "text": [
      "c:\\Users\\sanni\\miniconda3\\envs\\coding2\\lib\\site-packages\\sklearn\\cluster\\_kmeans.py:1429: UserWarning: KMeans is known to have a memory leak on Windows with MKL, when there are less chunks than available threads. You can avoid it by setting the environment variable OMP_NUM_THREADS=2.\n",
      "  warnings.warn(\n"
     ]
    },
    {
     "name": "stdout",
     "output_type": "stream",
     "text": [
      "GMM Classifier Report:\n",
      "              precision    recall  f1-score   support\n",
      "\n",
      "           0       0.15      0.28      0.20        18\n",
      "           1       0.33      0.10      0.15        20\n",
      "           2       0.00      0.00      0.00        12\n",
      "           3       0.00      0.00      0.00        14\n",
      "           4       0.14      0.22      0.17        18\n",
      "           5       0.00      0.00      0.00         9\n",
      "           6       0.11      0.06      0.08        16\n",
      "\n",
      "    accuracy                           0.11       107\n",
      "   macro avg       0.10      0.09      0.09       107\n",
      "weighted avg       0.13      0.11      0.10       107\n",
      "\n",
      "SVM Classifier Report:\n",
      "              precision    recall  f1-score   support\n",
      "\n",
      "           0       0.50      0.83      0.62        18\n",
      "           1       0.60      0.45      0.51        20\n",
      "           2       0.20      0.08      0.12        12\n",
      "           3       0.30      0.21      0.25        14\n",
      "           4       0.53      0.56      0.54        18\n",
      "           5       0.55      0.67      0.60         9\n",
      "           6       0.47      0.50      0.48        16\n",
      "\n",
      "    accuracy                           0.49       107\n",
      "   macro avg       0.45      0.47      0.45       107\n",
      "weighted avg       0.46      0.49      0.46       107\n",
      "\n"
     ]
    },
    {
     "name": "stderr",
     "output_type": "stream",
     "text": [
      "c:\\Users\\sanni\\miniconda3\\envs\\coding2\\lib\\site-packages\\sklearn\\cluster\\_kmeans.py:1429: UserWarning: KMeans is known to have a memory leak on Windows with MKL, when there are less chunks than available threads. You can avoid it by setting the environment variable OMP_NUM_THREADS=2.\n",
      "  warnings.warn(\n"
     ]
    },
    {
     "name": "stdout",
     "output_type": "stream",
     "text": [
      "GMM Classifier Report:\n",
      "              precision    recall  f1-score   support\n",
      "\n",
      "           0       0.22      0.11      0.15        18\n",
      "           1       0.00      0.00      0.00        20\n",
      "           2       0.10      0.42      0.16        12\n",
      "           3       0.00      0.00      0.00        14\n",
      "           4       0.20      0.06      0.09        18\n",
      "           5       0.15      0.44      0.23         9\n",
      "           6       0.00      0.00      0.00        16\n",
      "\n",
      "    accuracy                           0.11       107\n",
      "   macro avg       0.10      0.15      0.09       107\n",
      "weighted avg       0.09      0.11      0.08       107\n",
      "\n",
      "SVM Classifier Report:\n",
      "              precision    recall  f1-score   support\n",
      "\n",
      "           0       0.33      0.44      0.38        18\n",
      "           1       0.69      0.55      0.61        20\n",
      "           2       1.00      0.25      0.40        12\n",
      "           3       0.21      0.21      0.21        14\n",
      "           4       0.46      0.33      0.39        18\n",
      "           5       0.75      1.00      0.86         9\n",
      "           6       0.32      0.50      0.39        16\n",
      "\n",
      "    accuracy                           0.45       107\n",
      "   macro avg       0.54      0.47      0.46       107\n",
      "weighted avg       0.51      0.45      0.45       107\n",
      "\n"
     ]
    },
    {
     "name": "stderr",
     "output_type": "stream",
     "text": [
      "c:\\Users\\sanni\\miniconda3\\envs\\coding2\\lib\\site-packages\\sklearn\\cluster\\_kmeans.py:1429: UserWarning: KMeans is known to have a memory leak on Windows with MKL, when there are less chunks than available threads. You can avoid it by setting the environment variable OMP_NUM_THREADS=2.\n",
      "  warnings.warn(\n"
     ]
    },
    {
     "name": "stdout",
     "output_type": "stream",
     "text": [
      "GMM Classifier Report:\n",
      "              precision    recall  f1-score   support\n",
      "\n",
      "           0       0.18      0.39      0.25        18\n",
      "           1       0.00      0.00      0.00        20\n",
      "           2       0.18      0.42      0.25        12\n",
      "           3       0.00      0.00      0.00        14\n",
      "           4       0.00      0.00      0.00        18\n",
      "           5       0.00      0.00      0.00         9\n",
      "           6       0.16      0.19      0.17        16\n",
      "\n",
      "    accuracy                           0.14       107\n",
      "   macro avg       0.07      0.14      0.10       107\n",
      "weighted avg       0.07      0.14      0.10       107\n",
      "\n",
      "SVM Classifier Report:\n",
      "              precision    recall  f1-score   support\n",
      "\n",
      "           0       0.33      0.67      0.44        18\n",
      "           1       0.61      0.70      0.65        20\n",
      "           2       0.50      0.17      0.25        12\n",
      "           3       0.36      0.29      0.32        14\n",
      "           4       0.50      0.22      0.31        18\n",
      "           5       0.78      0.78      0.78         9\n",
      "           6       0.44      0.44      0.44        16\n",
      "\n",
      "    accuracy                           0.47       107\n",
      "   macro avg       0.50      0.47      0.46       107\n",
      "weighted avg       0.49      0.47      0.45       107\n",
      "\n"
     ]
    },
    {
     "name": "stderr",
     "output_type": "stream",
     "text": [
      "c:\\Users\\sanni\\miniconda3\\envs\\coding2\\lib\\site-packages\\sklearn\\cluster\\_kmeans.py:1429: UserWarning: KMeans is known to have a memory leak on Windows with MKL, when there are less chunks than available threads. You can avoid it by setting the environment variable OMP_NUM_THREADS=2.\n",
      "  warnings.warn(\n"
     ]
    },
    {
     "name": "stdout",
     "output_type": "stream",
     "text": [
      "GMM Classifier Report:\n",
      "              precision    recall  f1-score   support\n",
      "\n",
      "           0       0.29      0.22      0.25        18\n",
      "           1       0.25      0.05      0.08        20\n",
      "           2       0.13      0.25      0.17        12\n",
      "           3       0.08      0.07      0.07        14\n",
      "           4       0.10      0.06      0.07        18\n",
      "           5       0.23      0.33      0.27         9\n",
      "           6       0.17      0.31      0.22        16\n",
      "\n",
      "    accuracy                           0.17       107\n",
      "   macro avg       0.18      0.19      0.16       107\n",
      "weighted avg       0.18      0.17      0.15       107\n",
      "\n",
      "SVM Classifier Report:\n",
      "              precision    recall  f1-score   support\n",
      "\n",
      "           0       0.33      0.72      0.46        18\n",
      "           1       0.75      0.60      0.67        20\n",
      "           2       0.33      0.08      0.13        12\n",
      "           3       0.50      0.36      0.42        14\n",
      "           4       0.40      0.22      0.29        18\n",
      "           5       0.67      0.89      0.76         9\n",
      "           6       0.47      0.50      0.48        16\n",
      "\n",
      "    accuracy                           0.48       107\n",
      "   macro avg       0.49      0.48      0.46       107\n",
      "weighted avg       0.49      0.48      0.46       107\n",
      "\n"
     ]
    },
    {
     "name": "stderr",
     "output_type": "stream",
     "text": [
      "c:\\Users\\sanni\\miniconda3\\envs\\coding2\\lib\\site-packages\\sklearn\\cluster\\_kmeans.py:1429: UserWarning: KMeans is known to have a memory leak on Windows with MKL, when there are less chunks than available threads. You can avoid it by setting the environment variable OMP_NUM_THREADS=2.\n",
      "  warnings.warn(\n"
     ]
    },
    {
     "name": "stdout",
     "output_type": "stream",
     "text": [
      "GMM Classifier Report:\n",
      "              precision    recall  f1-score   support\n",
      "\n",
      "           0       0.00      0.00      0.00        18\n",
      "           1       0.25      0.45      0.32        20\n",
      "           2       0.00      0.00      0.00        12\n",
      "           3       0.12      0.07      0.09        14\n",
      "           4       0.00      0.00      0.00        18\n",
      "           5       0.25      0.44      0.32         9\n",
      "           6       0.15      0.19      0.17        16\n",
      "\n",
      "    accuracy                           0.16       107\n",
      "   macro avg       0.11      0.16      0.13       107\n",
      "weighted avg       0.11      0.16      0.12       107\n",
      "\n",
      "SVM Classifier Report:\n",
      "              precision    recall  f1-score   support\n",
      "\n",
      "           0       0.38      0.56      0.45        18\n",
      "           1       0.56      0.50      0.53        20\n",
      "           2       0.33      0.08      0.13        12\n",
      "           3       0.33      0.29      0.31        14\n",
      "           4       0.64      0.39      0.48        18\n",
      "           5       0.50      1.00      0.67         9\n",
      "           6       0.32      0.38      0.34        16\n",
      "\n",
      "    accuracy                           0.44       107\n",
      "   macro avg       0.44      0.46      0.42       107\n",
      "weighted avg       0.45      0.44      0.42       107\n",
      "\n"
     ]
    },
    {
     "name": "stderr",
     "output_type": "stream",
     "text": [
      "c:\\Users\\sanni\\miniconda3\\envs\\coding2\\lib\\site-packages\\sklearn\\cluster\\_kmeans.py:1429: UserWarning: KMeans is known to have a memory leak on Windows with MKL, when there are less chunks than available threads. You can avoid it by setting the environment variable OMP_NUM_THREADS=2.\n",
      "  warnings.warn(\n"
     ]
    },
    {
     "name": "stdout",
     "output_type": "stream",
     "text": [
      "GMM Classifier Report:\n",
      "              precision    recall  f1-score   support\n",
      "\n",
      "           0       0.27      0.17      0.21        18\n",
      "           1       0.00      0.00      0.00        20\n",
      "           2       1.00      0.08      0.15        12\n",
      "           3       0.17      0.29      0.21        14\n",
      "           4       0.00      0.00      0.00        18\n",
      "           5       0.12      0.44      0.19         9\n",
      "           6       0.20      0.31      0.24        16\n",
      "\n",
      "    accuracy                           0.16       107\n",
      "   macro avg       0.25      0.18      0.14       107\n",
      "weighted avg       0.22      0.16      0.13       107\n",
      "\n",
      "SVM Classifier Report:\n",
      "              precision    recall  f1-score   support\n",
      "\n",
      "           0       0.50      0.89      0.64        18\n",
      "           1       0.56      0.50      0.53        20\n",
      "           2       0.50      0.08      0.14        12\n",
      "           3       0.50      0.43      0.46        14\n",
      "           4       0.64      0.50      0.56        18\n",
      "           5       0.50      0.89      0.64         9\n",
      "           6       0.54      0.44      0.48        16\n",
      "\n",
      "    accuracy                           0.53       107\n",
      "   macro avg       0.53      0.53      0.49       107\n",
      "weighted avg       0.54      0.53      0.50       107\n",
      "\n"
     ]
    },
    {
     "name": "stderr",
     "output_type": "stream",
     "text": [
      "c:\\Users\\sanni\\miniconda3\\envs\\coding2\\lib\\site-packages\\sklearn\\cluster\\_kmeans.py:1429: UserWarning: KMeans is known to have a memory leak on Windows with MKL, when there are less chunks than available threads. You can avoid it by setting the environment variable OMP_NUM_THREADS=2.\n",
      "  warnings.warn(\n"
     ]
    },
    {
     "name": "stdout",
     "output_type": "stream",
     "text": [
      "GMM Classifier Report:\n",
      "              precision    recall  f1-score   support\n",
      "\n",
      "           0       0.15      0.11      0.13        18\n",
      "           1       0.40      0.10      0.16        20\n",
      "           2       0.04      0.08      0.05        12\n",
      "           3       0.10      0.07      0.08        14\n",
      "           4       0.00      0.00      0.00        18\n",
      "           5       0.11      0.33      0.16         9\n",
      "           6       0.07      0.06      0.06        16\n",
      "\n",
      "    accuracy                           0.09       107\n",
      "   macro avg       0.12      0.11      0.09       107\n",
      "weighted avg       0.14      0.09      0.09       107\n",
      "\n",
      "SVM Classifier Report:\n",
      "              precision    recall  f1-score   support\n",
      "\n",
      "           0       0.46      0.61      0.52        18\n",
      "           1       0.63      0.60      0.62        20\n",
      "           2       0.17      0.08      0.11        12\n",
      "           3       0.31      0.29      0.30        14\n",
      "           4       0.44      0.44      0.44        18\n",
      "           5       0.57      0.89      0.70         9\n",
      "           6       0.31      0.25      0.28        16\n",
      "\n",
      "    accuracy                           0.45       107\n",
      "   macro avg       0.41      0.45      0.42       107\n",
      "weighted avg       0.42      0.45      0.43       107\n",
      "\n"
     ]
    },
    {
     "name": "stderr",
     "output_type": "stream",
     "text": [
      "c:\\Users\\sanni\\miniconda3\\envs\\coding2\\lib\\site-packages\\sklearn\\cluster\\_kmeans.py:1429: UserWarning: KMeans is known to have a memory leak on Windows with MKL, when there are less chunks than available threads. You can avoid it by setting the environment variable OMP_NUM_THREADS=2.\n",
      "  warnings.warn(\n"
     ]
    },
    {
     "name": "stdout",
     "output_type": "stream",
     "text": [
      "GMM Classifier Report:\n",
      "              precision    recall  f1-score   support\n",
      "\n",
      "           0       0.17      0.28      0.21        18\n",
      "           1       0.35      0.35      0.35        20\n",
      "           2       0.14      0.17      0.15        12\n",
      "           3       0.06      0.07      0.07        14\n",
      "           4       0.00      0.00      0.00        18\n",
      "           5       0.00      0.00      0.00         9\n",
      "           6       0.00      0.00      0.00        16\n",
      "\n",
      "    accuracy                           0.14       107\n",
      "   macro avg       0.10      0.12      0.11       107\n",
      "weighted avg       0.12      0.14      0.13       107\n",
      "\n"
     ]
    },
    {
     "name": "stderr",
     "output_type": "stream",
     "text": [
      "c:\\Users\\sanni\\miniconda3\\envs\\coding2\\lib\\site-packages\\sklearn\\metrics\\_classification.py:1531: UndefinedMetricWarning: Precision is ill-defined and being set to 0.0 in labels with no predicted samples. Use `zero_division` parameter to control this behavior.\n",
      "  _warn_prf(average, modifier, f\"{metric.capitalize()} is\", len(result))\n",
      "c:\\Users\\sanni\\miniconda3\\envs\\coding2\\lib\\site-packages\\sklearn\\metrics\\_classification.py:1531: UndefinedMetricWarning: Precision is ill-defined and being set to 0.0 in labels with no predicted samples. Use `zero_division` parameter to control this behavior.\n",
      "  _warn_prf(average, modifier, f\"{metric.capitalize()} is\", len(result))\n",
      "c:\\Users\\sanni\\miniconda3\\envs\\coding2\\lib\\site-packages\\sklearn\\metrics\\_classification.py:1531: UndefinedMetricWarning: Precision is ill-defined and being set to 0.0 in labels with no predicted samples. Use `zero_division` parameter to control this behavior.\n",
      "  _warn_prf(average, modifier, f\"{metric.capitalize()} is\", len(result))\n"
     ]
    },
    {
     "name": "stdout",
     "output_type": "stream",
     "text": [
      "SVM Classifier Report:\n",
      "              precision    recall  f1-score   support\n",
      "\n",
      "           0       0.43      0.50      0.46        18\n",
      "           1       0.59      0.65      0.62        20\n",
      "           2       0.50      0.25      0.33        12\n",
      "           3       0.46      0.43      0.44        14\n",
      "           4       0.48      0.56      0.51        18\n",
      "           5       0.58      0.78      0.67         9\n",
      "           6       0.42      0.31      0.36        16\n",
      "\n",
      "    accuracy                           0.50       107\n",
      "   macro avg       0.49      0.50      0.48       107\n",
      "weighted avg       0.49      0.50      0.48       107\n",
      "\n"
     ]
    },
    {
     "name": "stderr",
     "output_type": "stream",
     "text": [
      "c:\\Users\\sanni\\miniconda3\\envs\\coding2\\lib\\site-packages\\sklearn\\cluster\\_kmeans.py:1429: UserWarning: KMeans is known to have a memory leak on Windows with MKL, when there are less chunks than available threads. You can avoid it by setting the environment variable OMP_NUM_THREADS=2.\n",
      "  warnings.warn(\n"
     ]
    },
    {
     "name": "stdout",
     "output_type": "stream",
     "text": [
      "GMM Classifier Report:\n",
      "              precision    recall  f1-score   support\n",
      "\n",
      "           0       0.12      0.17      0.14        18\n",
      "           1       0.21      0.15      0.18        20\n",
      "           2       0.00      0.00      0.00        12\n",
      "           3       0.22      0.36      0.27        14\n",
      "           4       0.00      0.00      0.00        18\n",
      "           5       0.00      0.00      0.00         9\n",
      "           6       0.00      0.00      0.00        16\n",
      "\n",
      "    accuracy                           0.10       107\n",
      "   macro avg       0.08      0.10      0.08       107\n",
      "weighted avg       0.09      0.10      0.09       107\n",
      "\n",
      "SVM Classifier Report:\n",
      "              precision    recall  f1-score   support\n",
      "\n",
      "           0       0.39      0.72      0.51        18\n",
      "           1       0.47      0.40      0.43        20\n",
      "           2       0.33      0.17      0.22        12\n",
      "           3       0.13      0.14      0.14        14\n",
      "           4       0.22      0.11      0.15        18\n",
      "           5       0.67      0.89      0.76         9\n",
      "           6       0.20      0.19      0.19        16\n",
      "\n",
      "    accuracy                           0.36       107\n",
      "   macro avg       0.35      0.37      0.34       107\n",
      "weighted avg       0.33      0.36      0.33       107\n",
      "\n"
     ]
    },
    {
     "name": "stderr",
     "output_type": "stream",
     "text": [
      "c:\\Users\\sanni\\miniconda3\\envs\\coding2\\lib\\site-packages\\sklearn\\cluster\\_kmeans.py:1429: UserWarning: KMeans is known to have a memory leak on Windows with MKL, when there are less chunks than available threads. You can avoid it by setting the environment variable OMP_NUM_THREADS=2.\n",
      "  warnings.warn(\n"
     ]
    },
    {
     "name": "stdout",
     "output_type": "stream",
     "text": [
      "GMM Classifier Report:\n",
      "              precision    recall  f1-score   support\n",
      "\n",
      "           0       0.14      0.06      0.08        18\n",
      "           1       0.33      0.25      0.29        20\n",
      "           2       0.00      0.00      0.00        12\n",
      "           3       0.00      0.00      0.00        14\n",
      "           4       0.07      0.06      0.06        18\n",
      "           5       0.10      0.22      0.13         9\n",
      "           6       0.20      0.56      0.30        16\n",
      "\n",
      "    accuracy                           0.17       107\n",
      "   macro avg       0.12      0.16      0.12       107\n",
      "weighted avg       0.14      0.17      0.13       107\n",
      "\n"
     ]
    },
    {
     "name": "stderr",
     "output_type": "stream",
     "text": [
      "c:\\Users\\sanni\\miniconda3\\envs\\coding2\\lib\\site-packages\\sklearn\\metrics\\_classification.py:1531: UndefinedMetricWarning: Precision is ill-defined and being set to 0.0 in labels with no predicted samples. Use `zero_division` parameter to control this behavior.\n",
      "  _warn_prf(average, modifier, f\"{metric.capitalize()} is\", len(result))\n",
      "c:\\Users\\sanni\\miniconda3\\envs\\coding2\\lib\\site-packages\\sklearn\\metrics\\_classification.py:1531: UndefinedMetricWarning: Precision is ill-defined and being set to 0.0 in labels with no predicted samples. Use `zero_division` parameter to control this behavior.\n",
      "  _warn_prf(average, modifier, f\"{metric.capitalize()} is\", len(result))\n",
      "c:\\Users\\sanni\\miniconda3\\envs\\coding2\\lib\\site-packages\\sklearn\\metrics\\_classification.py:1531: UndefinedMetricWarning: Precision is ill-defined and being set to 0.0 in labels with no predicted samples. Use `zero_division` parameter to control this behavior.\n",
      "  _warn_prf(average, modifier, f\"{metric.capitalize()} is\", len(result))\n"
     ]
    },
    {
     "name": "stdout",
     "output_type": "stream",
     "text": [
      "SVM Classifier Report:\n",
      "              precision    recall  f1-score   support\n",
      "\n",
      "           0       0.46      0.67      0.55        18\n",
      "           1       0.67      0.50      0.57        20\n",
      "           2       0.25      0.17      0.20        12\n",
      "           3       0.31      0.36      0.33        14\n",
      "           4       0.43      0.17      0.24        18\n",
      "           5       0.70      0.78      0.74         9\n",
      "           6       0.32      0.50      0.39        16\n",
      "\n",
      "    accuracy                           0.44       107\n",
      "   macro avg       0.45      0.45      0.43       107\n",
      "weighted avg       0.45      0.44      0.43       107\n",
      "\n"
     ]
    },
    {
     "name": "stderr",
     "output_type": "stream",
     "text": [
      "c:\\Users\\sanni\\miniconda3\\envs\\coding2\\lib\\site-packages\\sklearn\\cluster\\_kmeans.py:1429: UserWarning: KMeans is known to have a memory leak on Windows with MKL, when there are less chunks than available threads. You can avoid it by setting the environment variable OMP_NUM_THREADS=2.\n",
      "  warnings.warn(\n"
     ]
    },
    {
     "name": "stdout",
     "output_type": "stream",
     "text": [
      "GMM Classifier Report:\n",
      "              precision    recall  f1-score   support\n",
      "\n",
      "           0       0.00      0.00      0.00        18\n",
      "           1       0.17      0.05      0.08        20\n",
      "           2       0.00      0.00      0.00        12\n",
      "           3       0.14      0.71      0.23        14\n",
      "           4       0.00      0.00      0.00        18\n",
      "           5       0.00      0.00      0.00         9\n",
      "           6       0.33      0.19      0.24        16\n",
      "\n",
      "    accuracy                           0.13       107\n",
      "   macro avg       0.09      0.14      0.08       107\n",
      "weighted avg       0.10      0.13      0.08       107\n",
      "\n",
      "SVM Classifier Report:\n",
      "              precision    recall  f1-score   support\n",
      "\n",
      "           0       0.32      0.50      0.39        18\n",
      "           1       0.57      0.60      0.59        20\n",
      "           2       0.17      0.08      0.11        12\n",
      "           3       0.27      0.21      0.24        14\n",
      "           4       0.50      0.39      0.44        18\n",
      "           5       0.60      0.67      0.63         9\n",
      "           6       0.41      0.44      0.42        16\n",
      "\n",
      "    accuracy                           0.42       107\n",
      "   macro avg       0.41      0.41      0.40       107\n",
      "weighted avg       0.41      0.42      0.41       107\n",
      "\n"
     ]
    },
    {
     "name": "stderr",
     "output_type": "stream",
     "text": [
      "c:\\Users\\sanni\\miniconda3\\envs\\coding2\\lib\\site-packages\\sklearn\\cluster\\_kmeans.py:1429: UserWarning: KMeans is known to have a memory leak on Windows with MKL, when there are less chunks than available threads. You can avoid it by setting the environment variable OMP_NUM_THREADS=2.\n",
      "  warnings.warn(\n"
     ]
    },
    {
     "name": "stdout",
     "output_type": "stream",
     "text": [
      "GMM Classifier Report:\n",
      "              precision    recall  f1-score   support\n",
      "\n",
      "           0       0.00      0.00      0.00        18\n",
      "           1       0.00      0.00      0.00        20\n",
      "           2       0.13      0.33      0.19        12\n",
      "           3       0.12      0.36      0.18        14\n",
      "           4       0.18      0.11      0.14        18\n",
      "           5       0.00      0.00      0.00         9\n",
      "           6       0.12      0.12      0.12        16\n",
      "\n",
      "    accuracy                           0.12       107\n",
      "   macro avg       0.08      0.13      0.09       107\n",
      "weighted avg       0.08      0.12      0.09       107\n",
      "\n",
      "SVM Classifier Report:\n",
      "              precision    recall  f1-score   support\n",
      "\n",
      "           0       0.37      0.61      0.46        18\n",
      "           1       0.67      0.50      0.57        20\n",
      "           2       0.17      0.08      0.11        12\n",
      "           3       0.25      0.29      0.27        14\n",
      "           4       0.71      0.28      0.40        18\n",
      "           5       0.64      0.78      0.70         9\n",
      "           6       0.41      0.56      0.47        16\n",
      "\n",
      "    accuracy                           0.44       107\n",
      "   macro avg       0.46      0.44      0.43       107\n",
      "weighted avg       0.47      0.44      0.43       107\n",
      "\n"
     ]
    },
    {
     "name": "stderr",
     "output_type": "stream",
     "text": [
      "\u001b[34m\u001b[1mwandb\u001b[0m: \u001b[32m\u001b[41mERROR\u001b[0m The nbformat package was not found. It is required to save notebook history.\n"
     ]
    },
    {
     "data": {
      "text/html": [],
      "text/plain": [
       "<IPython.core.display.HTML object>"
      ]
     },
     "metadata": {},
     "output_type": "display_data"
    },
    {
     "data": {
      "text/html": [
       "<br>    <style><br>        .wandb-row {<br>            display: flex;<br>            flex-direction: row;<br>            flex-wrap: wrap;<br>            justify-content: flex-start;<br>            width: 100%;<br>        }<br>        .wandb-col {<br>            display: flex;<br>            flex-direction: column;<br>            flex-basis: 100%;<br>            flex: 1;<br>            padding: 10px;<br>        }<br>    </style><br><div class=\"wandb-row\"><div class=\"wandb-col\"><h3>Run history:</h3><br/><table class=\"wandb\"><tr><td>feature_dim</td><td>▁▁▂▂▂▃▃▃▃▄▄▄▅▅▅▆▆▆▆▇▇▇██</td></tr><tr><td>gmm_accuracy</td><td>█▂▇▇▄▂▁▂█▅▄▂▂▂▅▇▆▆▁▅▂▇▄▃</td></tr><tr><td>n_mfcc</td><td>▁▁▂▂▂▃▃▃▃▄▄▄▅▅▅▆▆▆▆▇▇▇██</td></tr><tr><td>svm_accuracy</td><td>▁█▇▇▇▇▇█▇▇▆▇▇▆▇▇▆█▆▇▅▆▆▆</td></tr></table><br/></div><div class=\"wandb-col\"><h3>Run summary:</h3><br/><table class=\"wandb\"><tr><td>feature_dim</td><td>4524</td></tr><tr><td>gmm_accuracy</td><td>0.1215</td></tr><tr><td>n_mfcc</td><td>116</td></tr><tr><td>svm_accuracy</td><td>0.43925</td></tr></table><br/></div></div>"
      ],
      "text/plain": [
       "<IPython.core.display.HTML object>"
      ]
     },
     "metadata": {},
     "output_type": "display_data"
    },
    {
     "data": {
      "text/html": [
       " View run <strong style=\"color:#cdcd00\">n_mfcc_sweep_single_run</strong> at: <a href='https://wandb.ai/its_mrpsycho/ssp-mfcc-tuning-WithoutSilenceRemoval/runs/smmg6g5t' target=\"_blank\">https://wandb.ai/its_mrpsycho/ssp-mfcc-tuning-WithoutSilenceRemoval/runs/smmg6g5t</a><br> View project at: <a href='https://wandb.ai/its_mrpsycho/ssp-mfcc-tuning-WithoutSilenceRemoval' target=\"_blank\">https://wandb.ai/its_mrpsycho/ssp-mfcc-tuning-WithoutSilenceRemoval</a><br>Synced 5 W&B file(s), 0 media file(s), 0 artifact file(s) and 0 other file(s)"
      ],
      "text/plain": [
       "<IPython.core.display.HTML object>"
      ]
     },
     "metadata": {},
     "output_type": "display_data"
    },
    {
     "data": {
      "text/html": [
       "Find logs at: <code>.\\wandb\\run-20250403_135548-smmg6g5t\\logs</code>"
      ],
      "text/plain": [
       "<IPython.core.display.HTML object>"
      ]
     },
     "metadata": {},
     "output_type": "display_data"
    }
   ],
   "source": [
    "import wandb\n",
    "import numpy as np\n",
    "\n",
    "def single_run_all_nmfccs():\n",
    "    wandb.init(\n",
    "        project=\"ssp-mfcc-tuning-WithoutSilenceRemoval\",\n",
    "        name=\"n_mfcc_sweep_single_run\",\n",
    "        config={}\n",
    "    )\n",
    "\n",
    "    for n in np.arange(1, 100, 5):\n",
    "        mfccFeatures = process_directory_mfcc(directory, n)\n",
    "        labels = load_labels(\"EmoDB_dataset/emotion_mapping_detailed.csv\")\n",
    "        X, y = prepare_dataset(mfccFeatures, labels)\n",
    "        gmm_acc, svm_acc = train_and_evaluate(X, y)\n",
    "\n",
    "        # Log scalars at each step\n",
    "        wandb.log({\n",
    "            \"n_mfcc\": n,\n",
    "            \"svm_accuracy\": svm_acc,\n",
    "            \"gmm_accuracy\": gmm_acc,\n",
    "            \"feature_dim\": X.shape[1]\n",
    "        })\n",
    "\n",
    "    wandb.finish()\n",
    "\n",
    "# Run it directly\n",
    "single_run_all_nmfccs()\n"
   ]
  }
 ],
 "metadata": {
  "kernelspec": {
   "display_name": "coding2",
   "language": "python",
   "name": "python3"
  },
  "language_info": {
   "codemirror_mode": {
    "name": "ipython",
    "version": 3
   },
   "file_extension": ".py",
   "mimetype": "text/x-python",
   "name": "python",
   "nbconvert_exporter": "python",
   "pygments_lexer": "ipython3",
   "version": "3.10.15"
  }
 },
 "nbformat": 4,
 "nbformat_minor": 2
}
