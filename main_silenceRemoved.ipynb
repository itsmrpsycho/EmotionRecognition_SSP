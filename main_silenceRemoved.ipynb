{
 "cells": [
  {
   "cell_type": "code",
   "execution_count": 4,
   "metadata": {},
   "outputs": [],
   "source": [
    "directory = './EmoDB_dataset/silenceRemoved'"
   ]
  },
  {
   "cell_type": "markdown",
   "metadata": {},
   "source": [
    "# MFCC features"
   ]
  },
  {
   "cell_type": "markdown",
   "metadata": {},
   "source": [
    "# to do: global normalisation"
   ]
  },
  {
   "cell_type": "markdown",
   "metadata": {},
   "source": [
    "## Feature extraction"
   ]
  },
  {
   "cell_type": "code",
   "execution_count": 5,
   "metadata": {},
   "outputs": [],
   "source": [
    "import os\n",
    "import librosa\n",
    "import numpy as np\n",
    "from typing import Dict\n",
    "\n",
    "def extract_mfcc_features(file_path: str, n_mfcc: int = 39, \n",
    "                          frame_size: float = 0.025, frame_stride: float = 0.01, \n",
    "                          n_segments: int = 10) -> np.ndarray:\n",
    "    \"\"\"\n",
    "    Extracts 39 MFCC features framewise from an audio file and then applies\n",
    "    average pooling to condense the features over time into an n x 39 feature matrix.\n",
    "    \n",
    "    Parameters:\n",
    "      file_path (str): Path to the audio file.\n",
    "      n_mfcc (int): Number of MFCC features to extract. Default is 39.\n",
    "      frame_size (float): Length of each frame in seconds. Default is 0.025.\n",
    "      frame_stride (float): Step between successive frames in seconds. Default is 0.01.\n",
    "      n_segments (int): Number of segments (n) to pool the frames into.\n",
    "    \n",
    "    Returns:\n",
    "      np.ndarray: A n x 39 array where each row is the average MFCC vector for that segment.\n",
    "    \"\"\"\n",
    "    try:\n",
    "        signal, sample_rate = librosa.load(file_path, sr=None)\n",
    "        frame_length = int(frame_size * sample_rate)\n",
    "        hop_length = int(frame_stride * sample_rate)\n",
    "        \n",
    "        # Extract MFCC features; result shape is (n_mfcc, T) where T is number of frames.\n",
    "        mfcc = librosa.feature.mfcc(y=signal, sr=sample_rate, n_mfcc=n_mfcc,\n",
    "                                    n_fft=frame_length, hop_length=hop_length)\n",
    "        \n",
    "        # Normalize the MFCC features along each coefficient dimension.\n",
    "        mfcc_normalized = mfcc - np.mean(mfcc, axis=1, keepdims=True)\n",
    "        \n",
    "        # Transpose to shape (T, n_mfcc) for pooling along the time axis.\n",
    "        mfcc_normalized = mfcc_normalized.T\n",
    "        \n",
    "        # Divide the frames into n_segments segments and compute the average for each segment.\n",
    "        segments = np.array_split(mfcc_normalized, n_segments, axis=0)\n",
    "        pooled_features = np.array([np.mean(seg, axis=0) for seg in segments])\n",
    "        \n",
    "        return pooled_features  # Shape: (n_segments, 39)\n",
    "    \n",
    "    except Exception as e:\n",
    "        print(f\"Error processing file {file_path}: {e}\")\n",
    "    return np.array([])\n",
    "\n",
    "def process_directory_mfcc(directory: str, n_segments: int = 10) -> Dict[str, np.ndarray]:\n",
    "    \"\"\"\n",
    "    Processes all .wav files in the given directory, extracting their MFCC features\n",
    "    using average pooling to produce an n x 39 feature matrix for each file.\n",
    "    \n",
    "    Parameters:\n",
    "      directory (str): Path to the directory containing .wav files.\n",
    "      n_segments (int): Number of segments to pool the frames into for each file.\n",
    "    \n",
    "    Returns:\n",
    "      Dict[str, np.ndarray]: A dictionary mapping filenames to their corresponding feature matrices.\n",
    "    \"\"\"\n",
    "    feature_vectors = {}\n",
    "    for filename in os.listdir(directory):\n",
    "        if filename.endswith('.wav'):\n",
    "            file_path = os.path.join(directory, filename)\n",
    "            features = extract_mfcc_features(file_path, n_segments=n_segments)\n",
    "            if features.size > 0:\n",
    "                feature_vectors[filename] = features\n",
    "    return feature_vectors\n"
   ]
  },
  {
   "cell_type": "markdown",
   "metadata": {},
   "source": [
    "## Classifier on MFCC"
   ]
  },
  {
   "cell_type": "code",
   "execution_count": 6,
   "metadata": {},
   "outputs": [],
   "source": [
    "import os\n",
    "import pandas as pd\n",
    "import numpy as np\n",
    "import joblib\n",
    "from sklearn.model_selection import train_test_split\n",
    "from sklearn.mixture import GaussianMixture\n",
    "from sklearn.svm import SVC\n",
    "from sklearn.metrics import accuracy_score, classification_report\n",
    "\n",
    "\n",
    "def load_labels(csv_file: str) -> pd.DataFrame:\n",
    "    return pd.read_csv(csv_file)\n",
    "\n",
    "def prepare_dataset(features: dict, labels: pd.DataFrame):\n",
    "    \"\"\"\n",
    "    Constructs the dataset by matching each audio file's feature matrix with its label.\n",
    "    Since each file is represented as an n x 39 matrix (n segments by 39 features),\n",
    "    we flatten it into a 1D feature vector of length n*39.\n",
    "    \"\"\"\n",
    "    X = []\n",
    "    y = []\n",
    "    for _, row in labels.iterrows():\n",
    "        file_id = row['Filename']\n",
    "        if file_id in features:\n",
    "            # Flatten the (n, 39) matrix to a 1D vector (n*39,)\n",
    "            feature_matrix = features[file_id]\n",
    "            feature_vector = feature_matrix.flatten()\n",
    "            X.append(feature_vector)\n",
    "            y.append(int(row['EmotionNumeric']))\n",
    "    return np.array(X), np.array(y)\n",
    "\n",
    "\n",
    "def train_and_evaluate(X, y):\n",
    "    X_train, X_test, y_train, y_test = train_test_split(X, y, test_size=0.2, random_state=42)\n",
    "\n",
    "    # GMM Classifier\n",
    "    gmm_model = GaussianMixture(n_components=len(np.unique(y)), random_state=42)\n",
    "    gmm_model.fit(X_train)\n",
    "    gmm_predictions = gmm_model.predict(X_test)\n",
    "\n",
    "    gmm_acc = accuracy_score(y_test, gmm_predictions)\n",
    "    print(\"GMM Classifier Report:\")\n",
    "    print(classification_report(y_test, gmm_predictions))\n",
    "\n",
    "    # SVM Classifier\n",
    "    svm_model = SVC(kernel='linear', random_state=42)\n",
    "    svm_model.fit(X_train, y_train)\n",
    "    svm_predictions = svm_model.predict(X_test)\n",
    "\n",
    "    svm_acc = accuracy_score(y_test, svm_predictions)\n",
    "    print(\"SVM Classifier Report:\")\n",
    "    print(classification_report(y_test, svm_predictions))\n",
    "\n",
    "    return gmm_acc, svm_acc\n"
   ]
  },
  {
   "cell_type": "markdown",
   "metadata": {},
   "source": [
    "# Wandb"
   ]
  },
  {
   "cell_type": "code",
   "execution_count": null,
   "metadata": {},
   "outputs": [
    {
     "name": "stderr",
     "output_type": "stream",
     "text": [
      "\u001b[34m\u001b[1mwandb\u001b[0m: \u001b[32m\u001b[41mERROR\u001b[0m The nbformat package was not found. It is required to save notebook history.\n"
     ]
    },
    {
     "data": {
      "text/html": [],
      "text/plain": [
       "<IPython.core.display.HTML object>"
      ]
     },
     "metadata": {},
     "output_type": "display_data"
    },
    {
     "data": {
      "text/html": [
       " View run <strong style=\"color:#cdcd00\">n_mfcc_sweep_single_run</strong> at: <a href='https://wandb.ai/its_mrpsycho/ssp-mfcc-tuning-SilenceRemoval/runs/zdcahekt' target=\"_blank\">https://wandb.ai/its_mrpsycho/ssp-mfcc-tuning-SilenceRemoval/runs/zdcahekt</a><br> View project at: <a href='https://wandb.ai/its_mrpsycho/ssp-mfcc-tuning-SilenceRemoval' target=\"_blank\">https://wandb.ai/its_mrpsycho/ssp-mfcc-tuning-SilenceRemoval</a><br>Synced 5 W&B file(s), 0 media file(s), 0 artifact file(s) and 0 other file(s)"
      ],
      "text/plain": [
       "<IPython.core.display.HTML object>"
      ]
     },
     "metadata": {},
     "output_type": "display_data"
    },
    {
     "data": {
      "text/html": [
       "Find logs at: <code>.\\wandb\\run-20250403_134821-zdcahekt\\logs</code>"
      ],
      "text/plain": [
       "<IPython.core.display.HTML object>"
      ]
     },
     "metadata": {},
     "output_type": "display_data"
    },
    {
     "data": {
      "text/html": [
       "Tracking run with wandb version 0.19.9"
      ],
      "text/plain": [
       "<IPython.core.display.HTML object>"
      ]
     },
     "metadata": {},
     "output_type": "display_data"
    },
    {
     "data": {
      "text/html": [
       "Run data is saved locally in <code>f:\\Study\\4-2\\SSP\\SSP_Project\\EmotionRecognition_SSP\\wandb\\run-20250403_134830-bvat0d2o</code>"
      ],
      "text/plain": [
       "<IPython.core.display.HTML object>"
      ]
     },
     "metadata": {},
     "output_type": "display_data"
    },
    {
     "data": {
      "text/html": [
       "Syncing run <strong><a href='https://wandb.ai/its_mrpsycho/ssp-mfcc-tuning-SilenceRemoval/runs/bvat0d2o' target=\"_blank\">n_mfcc_sweep_single_run</a></strong> to <a href='https://wandb.ai/its_mrpsycho/ssp-mfcc-tuning-SilenceRemoval' target=\"_blank\">Weights & Biases</a> (<a href='https://wandb.me/developer-guide' target=\"_blank\">docs</a>)<br>"
      ],
      "text/plain": [
       "<IPython.core.display.HTML object>"
      ]
     },
     "metadata": {},
     "output_type": "display_data"
    },
    {
     "data": {
      "text/html": [
       " View project at <a href='https://wandb.ai/its_mrpsycho/ssp-mfcc-tuning-SilenceRemoval' target=\"_blank\">https://wandb.ai/its_mrpsycho/ssp-mfcc-tuning-SilenceRemoval</a>"
      ],
      "text/plain": [
       "<IPython.core.display.HTML object>"
      ]
     },
     "metadata": {},
     "output_type": "display_data"
    },
    {
     "data": {
      "text/html": [
       " View run at <a href='https://wandb.ai/its_mrpsycho/ssp-mfcc-tuning-SilenceRemoval/runs/bvat0d2o' target=\"_blank\">https://wandb.ai/its_mrpsycho/ssp-mfcc-tuning-SilenceRemoval/runs/bvat0d2o</a>"
      ],
      "text/plain": [
       "<IPython.core.display.HTML object>"
      ]
     },
     "metadata": {},
     "output_type": "display_data"
    },
    {
     "name": "stderr",
     "output_type": "stream",
     "text": [
      "c:\\Users\\sanni\\miniconda3\\envs\\coding2\\lib\\site-packages\\sklearn\\cluster\\_kmeans.py:1429: UserWarning: KMeans is known to have a memory leak on Windows with MKL, when there are less chunks than available threads. You can avoid it by setting the environment variable OMP_NUM_THREADS=2.\n",
      "  warnings.warn(\n"
     ]
    },
    {
     "name": "stdout",
     "output_type": "stream",
     "text": [
      "GMM Classifier Report:\n",
      "              precision    recall  f1-score   support\n",
      "\n",
      "           0       0.33      0.11      0.17        18\n",
      "           1       0.28      0.35      0.31        20\n",
      "           2       0.10      0.08      0.09        12\n",
      "           3       0.11      0.07      0.09        14\n",
      "           4       0.18      0.33      0.23        18\n",
      "           5       0.24      0.56      0.33         9\n",
      "           6       0.50      0.06      0.11        16\n",
      "\n",
      "    accuracy                           0.21       107\n",
      "   macro avg       0.25      0.22      0.19       107\n",
      "weighted avg       0.26      0.21      0.19       107\n",
      "\n",
      "SVM Classifier Report:\n",
      "              precision    recall  f1-score   support\n",
      "\n",
      "           0       0.48      0.78      0.60        18\n",
      "           1       0.60      0.60      0.60        20\n",
      "           2       0.50      0.25      0.33        12\n",
      "           3       0.50      0.57      0.53        14\n",
      "           4       0.69      0.50      0.58        18\n",
      "           5       0.50      0.78      0.61         9\n",
      "           6       0.11      0.06      0.08        16\n",
      "\n",
      "    accuracy                           0.50       107\n",
      "   macro avg       0.48      0.51      0.48       107\n",
      "weighted avg       0.49      0.50      0.48       107\n",
      "\n"
     ]
    },
    {
     "name": "stderr",
     "output_type": "stream",
     "text": [
      "c:\\Users\\sanni\\miniconda3\\envs\\coding2\\lib\\site-packages\\sklearn\\cluster\\_kmeans.py:1429: UserWarning: KMeans is known to have a memory leak on Windows with MKL, when there are less chunks than available threads. You can avoid it by setting the environment variable OMP_NUM_THREADS=2.\n",
      "  warnings.warn(\n"
     ]
    },
    {
     "name": "stdout",
     "output_type": "stream",
     "text": [
      "GMM Classifier Report:\n",
      "              precision    recall  f1-score   support\n",
      "\n",
      "           0       0.20      0.11      0.14        18\n",
      "           1       0.10      0.05      0.07        20\n",
      "           2       0.15      0.17      0.16        12\n",
      "           3       0.12      0.21      0.15        14\n",
      "           4       0.00      0.00      0.00        18\n",
      "           5       0.20      0.22      0.21         9\n",
      "           6       0.06      0.12      0.09        16\n",
      "\n",
      "    accuracy                           0.11       107\n",
      "   macro avg       0.12      0.13      0.12       107\n",
      "weighted avg       0.11      0.11      0.11       107\n",
      "\n",
      "SVM Classifier Report:\n",
      "              precision    recall  f1-score   support\n",
      "\n",
      "           0       0.38      0.56      0.45        18\n",
      "           1       0.71      0.50      0.59        20\n",
      "           2       0.20      0.08      0.12        12\n",
      "           3       0.39      0.50      0.44        14\n",
      "           4       0.47      0.44      0.46        18\n",
      "           5       0.46      0.67      0.55         9\n",
      "           6       0.43      0.38      0.40        16\n",
      "\n",
      "    accuracy                           0.45       107\n",
      "   macro avg       0.44      0.45      0.43       107\n",
      "weighted avg       0.45      0.45      0.44       107\n",
      "\n"
     ]
    },
    {
     "name": "stderr",
     "output_type": "stream",
     "text": [
      "c:\\Users\\sanni\\miniconda3\\envs\\coding2\\lib\\site-packages\\sklearn\\cluster\\_kmeans.py:1429: UserWarning: KMeans is known to have a memory leak on Windows with MKL, when there are less chunks than available threads. You can avoid it by setting the environment variable OMP_NUM_THREADS=2.\n",
      "  warnings.warn(\n"
     ]
    },
    {
     "name": "stdout",
     "output_type": "stream",
     "text": [
      "GMM Classifier Report:\n",
      "              precision    recall  f1-score   support\n",
      "\n",
      "           0       0.29      0.11      0.16        18\n",
      "           1       0.09      0.05      0.06        20\n",
      "           2       0.00      0.00      0.00        12\n",
      "           3       0.12      0.07      0.09        14\n",
      "           4       0.08      0.17      0.11        18\n",
      "           5       0.00      0.00      0.00         9\n",
      "           6       0.09      0.19      0.12        16\n",
      "\n",
      "    accuracy                           0.09       107\n",
      "   macro avg       0.10      0.08      0.08       107\n",
      "weighted avg       0.11      0.09      0.09       107\n",
      "\n",
      "SVM Classifier Report:\n",
      "              precision    recall  f1-score   support\n",
      "\n",
      "           0       0.38      0.61      0.47        18\n",
      "           1       0.78      0.70      0.74        20\n",
      "           2       0.50      0.08      0.14        12\n",
      "           3       0.33      0.36      0.34        14\n",
      "           4       0.55      0.33      0.41        18\n",
      "           5       0.44      0.78      0.56         9\n",
      "           6       0.38      0.38      0.38        16\n",
      "\n",
      "    accuracy                           0.47       107\n",
      "   macro avg       0.48      0.46      0.43       107\n",
      "weighted avg       0.49      0.47      0.45       107\n",
      "\n"
     ]
    },
    {
     "name": "stderr",
     "output_type": "stream",
     "text": [
      "c:\\Users\\sanni\\miniconda3\\envs\\coding2\\lib\\site-packages\\sklearn\\cluster\\_kmeans.py:1429: UserWarning: KMeans is known to have a memory leak on Windows with MKL, when there are less chunks than available threads. You can avoid it by setting the environment variable OMP_NUM_THREADS=2.\n",
      "  warnings.warn(\n"
     ]
    },
    {
     "name": "stdout",
     "output_type": "stream",
     "text": [
      "GMM Classifier Report:\n",
      "              precision    recall  f1-score   support\n",
      "\n",
      "           0       0.00      0.00      0.00        18\n",
      "           1       0.27      0.30      0.29        20\n",
      "           2       0.17      0.17      0.17        12\n",
      "           3       0.08      0.07      0.08        14\n",
      "           4       0.10      0.17      0.12        18\n",
      "           5       0.00      0.00      0.00         9\n",
      "           6       0.06      0.06      0.06        16\n",
      "\n",
      "    accuracy                           0.12       107\n",
      "   macro avg       0.10      0.11      0.10       107\n",
      "weighted avg       0.11      0.12      0.11       107\n",
      "\n",
      "SVM Classifier Report:\n",
      "              precision    recall  f1-score   support\n",
      "\n",
      "           0       0.36      0.56      0.43        18\n",
      "           1       0.73      0.55      0.63        20\n",
      "           2       0.25      0.17      0.20        12\n",
      "           3       0.43      0.43      0.43        14\n",
      "           4       0.53      0.56      0.54        18\n",
      "           5       0.50      0.67      0.57         9\n",
      "           6       0.27      0.19      0.22        16\n",
      "\n",
      "    accuracy                           0.45       107\n",
      "   macro avg       0.44      0.44      0.43       107\n",
      "weighted avg       0.45      0.45      0.44       107\n",
      "\n"
     ]
    },
    {
     "name": "stderr",
     "output_type": "stream",
     "text": [
      "c:\\Users\\sanni\\miniconda3\\envs\\coding2\\lib\\site-packages\\sklearn\\cluster\\_kmeans.py:1429: UserWarning: KMeans is known to have a memory leak on Windows with MKL, when there are less chunks than available threads. You can avoid it by setting the environment variable OMP_NUM_THREADS=2.\n",
      "  warnings.warn(\n"
     ]
    },
    {
     "name": "stdout",
     "output_type": "stream",
     "text": [
      "GMM Classifier Report:\n",
      "              precision    recall  f1-score   support\n",
      "\n",
      "           0       0.29      0.11      0.16        18\n",
      "           1       0.27      0.30      0.29        20\n",
      "           2       0.24      0.42      0.30        12\n",
      "           3       0.67      0.14      0.24        14\n",
      "           4       0.22      0.11      0.15        18\n",
      "           5       0.00      0.00      0.00         9\n",
      "           6       0.14      0.38      0.20        16\n",
      "\n",
      "    accuracy                           0.21       107\n",
      "   macro avg       0.26      0.21      0.19       107\n",
      "weighted avg       0.27      0.21      0.20       107\n",
      "\n",
      "SVM Classifier Report:\n",
      "              precision    recall  f1-score   support\n",
      "\n",
      "           0       0.42      0.61      0.50        18\n",
      "           1       0.65      0.55      0.59        20\n",
      "           2       0.25      0.08      0.12        12\n",
      "           3       0.29      0.43      0.34        14\n",
      "           4       0.80      0.44      0.57        18\n",
      "           5       0.31      0.56      0.40         9\n",
      "           6       0.38      0.31      0.34        16\n",
      "\n",
      "    accuracy                           0.44       107\n",
      "   macro avg       0.44      0.43      0.41       107\n",
      "weighted avg       0.48      0.44      0.44       107\n",
      "\n"
     ]
    },
    {
     "name": "stderr",
     "output_type": "stream",
     "text": [
      "c:\\Users\\sanni\\miniconda3\\envs\\coding2\\lib\\site-packages\\sklearn\\cluster\\_kmeans.py:1429: UserWarning: KMeans is known to have a memory leak on Windows with MKL, when there are less chunks than available threads. You can avoid it by setting the environment variable OMP_NUM_THREADS=2.\n",
      "  warnings.warn(\n"
     ]
    },
    {
     "name": "stdout",
     "output_type": "stream",
     "text": [
      "GMM Classifier Report:\n",
      "              precision    recall  f1-score   support\n",
      "\n",
      "           0       0.11      0.06      0.07        18\n",
      "           1       0.09      0.05      0.06        20\n",
      "           2       0.00      0.00      0.00        12\n",
      "           3       0.25      0.07      0.11        14\n",
      "           4       0.09      0.28      0.14        18\n",
      "           5       0.12      0.11      0.12         9\n",
      "           6       0.17      0.19      0.18        16\n",
      "\n",
      "    accuracy                           0.11       107\n",
      "   macro avg       0.12      0.11      0.10       107\n",
      "weighted avg       0.12      0.11      0.10       107\n",
      "\n",
      "SVM Classifier Report:\n",
      "              precision    recall  f1-score   support\n",
      "\n",
      "           0       0.45      0.72      0.55        18\n",
      "           1       0.50      0.40      0.44        20\n",
      "           2       0.00      0.00      0.00        12\n",
      "           3       0.64      0.50      0.56        14\n",
      "           4       0.46      0.33      0.39        18\n",
      "           5       0.44      0.89      0.59         9\n",
      "           6       0.28      0.31      0.29        16\n",
      "\n",
      "    accuracy                           0.44       107\n",
      "   macro avg       0.40      0.45      0.40       107\n",
      "weighted avg       0.41      0.44      0.41       107\n",
      "\n"
     ]
    },
    {
     "name": "stderr",
     "output_type": "stream",
     "text": [
      "c:\\Users\\sanni\\miniconda3\\envs\\coding2\\lib\\site-packages\\sklearn\\cluster\\_kmeans.py:1429: UserWarning: KMeans is known to have a memory leak on Windows with MKL, when there are less chunks than available threads. You can avoid it by setting the environment variable OMP_NUM_THREADS=2.\n",
      "  warnings.warn(\n"
     ]
    },
    {
     "name": "stdout",
     "output_type": "stream",
     "text": [
      "GMM Classifier Report:\n",
      "              precision    recall  f1-score   support\n",
      "\n",
      "           0       0.25      0.06      0.09        18\n",
      "           1       0.00      0.00      0.00        20\n",
      "           2       0.00      0.00      0.00        12\n",
      "           3       0.00      0.00      0.00        14\n",
      "           4       0.13      0.61      0.22        18\n",
      "           5       0.00      0.00      0.00         9\n",
      "           6       0.20      0.12      0.15        16\n",
      "\n",
      "    accuracy                           0.13       107\n",
      "   macro avg       0.08      0.11      0.07       107\n",
      "weighted avg       0.09      0.13      0.08       107\n",
      "\n",
      "SVM Classifier Report:\n",
      "              precision    recall  f1-score   support\n",
      "\n",
      "           0       0.54      0.78      0.64        18\n",
      "           1       0.68      0.65      0.67        20\n",
      "           2       0.33      0.17      0.22        12\n",
      "           3       0.50      0.43      0.46        14\n",
      "           4       0.67      0.33      0.44        18\n",
      "           5       0.28      0.56      0.37         9\n",
      "           6       0.47      0.50      0.48        16\n",
      "\n",
      "    accuracy                           0.50       107\n",
      "   macro avg       0.50      0.49      0.47       107\n",
      "weighted avg       0.53      0.50      0.50       107\n",
      "\n"
     ]
    },
    {
     "name": "stderr",
     "output_type": "stream",
     "text": [
      "c:\\Users\\sanni\\miniconda3\\envs\\coding2\\lib\\site-packages\\sklearn\\metrics\\_classification.py:1531: UndefinedMetricWarning: Precision is ill-defined and being set to 0.0 in labels with no predicted samples. Use `zero_division` parameter to control this behavior.\n",
      "  _warn_prf(average, modifier, f\"{metric.capitalize()} is\", len(result))\n",
      "c:\\Users\\sanni\\miniconda3\\envs\\coding2\\lib\\site-packages\\sklearn\\metrics\\_classification.py:1531: UndefinedMetricWarning: Precision is ill-defined and being set to 0.0 in labels with no predicted samples. Use `zero_division` parameter to control this behavior.\n",
      "  _warn_prf(average, modifier, f\"{metric.capitalize()} is\", len(result))\n",
      "c:\\Users\\sanni\\miniconda3\\envs\\coding2\\lib\\site-packages\\sklearn\\metrics\\_classification.py:1531: UndefinedMetricWarning: Precision is ill-defined and being set to 0.0 in labels with no predicted samples. Use `zero_division` parameter to control this behavior.\n",
      "  _warn_prf(average, modifier, f\"{metric.capitalize()} is\", len(result))\n",
      "c:\\Users\\sanni\\miniconda3\\envs\\coding2\\lib\\site-packages\\sklearn\\cluster\\_kmeans.py:1429: UserWarning: KMeans is known to have a memory leak on Windows with MKL, when there are less chunks than available threads. You can avoid it by setting the environment variable OMP_NUM_THREADS=2.\n",
      "  warnings.warn(\n"
     ]
    },
    {
     "name": "stdout",
     "output_type": "stream",
     "text": [
      "GMM Classifier Report:\n",
      "              precision    recall  f1-score   support\n",
      "\n",
      "           0       0.17      0.17      0.17        18\n",
      "           1       0.20      0.05      0.08        20\n",
      "           2       0.00      0.00      0.00        12\n",
      "           3       0.00      0.00      0.00        14\n",
      "           4       0.12      0.33      0.18        18\n",
      "           5       0.00      0.00      0.00         9\n",
      "           6       0.20      0.12      0.15        16\n",
      "\n",
      "    accuracy                           0.11       107\n",
      "   macro avg       0.10      0.10      0.08       107\n",
      "weighted avg       0.12      0.11      0.10       107\n",
      "\n",
      "SVM Classifier Report:\n",
      "              precision    recall  f1-score   support\n",
      "\n",
      "           0       0.40      0.78      0.53        18\n",
      "           1       0.56      0.50      0.53        20\n",
      "           2       0.80      0.33      0.47        12\n",
      "           3       0.38      0.36      0.37        14\n",
      "           4       0.67      0.33      0.44        18\n",
      "           5       0.46      0.67      0.55         9\n",
      "           6       0.50      0.44      0.47        16\n",
      "\n",
      "    accuracy                           0.49       107\n",
      "   macro avg       0.54      0.49      0.48       107\n",
      "weighted avg       0.54      0.49      0.48       107\n",
      "\n"
     ]
    },
    {
     "name": "stderr",
     "output_type": "stream",
     "text": [
      "c:\\Users\\sanni\\miniconda3\\envs\\coding2\\lib\\site-packages\\sklearn\\cluster\\_kmeans.py:1429: UserWarning: KMeans is known to have a memory leak on Windows with MKL, when there are less chunks than available threads. You can avoid it by setting the environment variable OMP_NUM_THREADS=2.\n",
      "  warnings.warn(\n"
     ]
    },
    {
     "name": "stdout",
     "output_type": "stream",
     "text": [
      "GMM Classifier Report:\n",
      "              precision    recall  f1-score   support\n",
      "\n",
      "           0       0.00      0.00      0.00        18\n",
      "           1       0.50      0.10      0.17        20\n",
      "           2       0.00      0.00      0.00        12\n",
      "           3       0.12      0.14      0.13        14\n",
      "           4       0.00      0.00      0.00        18\n",
      "           5       0.10      0.67      0.17         9\n",
      "           6       0.00      0.00      0.00        16\n",
      "\n",
      "    accuracy                           0.09       107\n",
      "   macro avg       0.10      0.13      0.07       107\n",
      "weighted avg       0.12      0.09      0.06       107\n",
      "\n"
     ]
    },
    {
     "name": "stderr",
     "output_type": "stream",
     "text": [
      "c:\\Users\\sanni\\miniconda3\\envs\\coding2\\lib\\site-packages\\sklearn\\metrics\\_classification.py:1531: UndefinedMetricWarning: Precision is ill-defined and being set to 0.0 in labels with no predicted samples. Use `zero_division` parameter to control this behavior.\n",
      "  _warn_prf(average, modifier, f\"{metric.capitalize()} is\", len(result))\n",
      "c:\\Users\\sanni\\miniconda3\\envs\\coding2\\lib\\site-packages\\sklearn\\metrics\\_classification.py:1531: UndefinedMetricWarning: Precision is ill-defined and being set to 0.0 in labels with no predicted samples. Use `zero_division` parameter to control this behavior.\n",
      "  _warn_prf(average, modifier, f\"{metric.capitalize()} is\", len(result))\n",
      "c:\\Users\\sanni\\miniconda3\\envs\\coding2\\lib\\site-packages\\sklearn\\metrics\\_classification.py:1531: UndefinedMetricWarning: Precision is ill-defined and being set to 0.0 in labels with no predicted samples. Use `zero_division` parameter to control this behavior.\n",
      "  _warn_prf(average, modifier, f\"{metric.capitalize()} is\", len(result))\n"
     ]
    },
    {
     "name": "stdout",
     "output_type": "stream",
     "text": [
      "SVM Classifier Report:\n",
      "              precision    recall  f1-score   support\n",
      "\n",
      "           0       0.41      0.61      0.49        18\n",
      "           1       0.50      0.35      0.41        20\n",
      "           2       0.40      0.17      0.24        12\n",
      "           3       0.35      0.43      0.39        14\n",
      "           4       0.18      0.11      0.14        18\n",
      "           5       0.33      0.56      0.42         9\n",
      "           6       0.33      0.38      0.35        16\n",
      "\n",
      "    accuracy                           0.36       107\n",
      "   macro avg       0.36      0.37      0.35       107\n",
      "weighted avg       0.36      0.36      0.35       107\n",
      "\n"
     ]
    },
    {
     "name": "stderr",
     "output_type": "stream",
     "text": [
      "c:\\Users\\sanni\\miniconda3\\envs\\coding2\\lib\\site-packages\\sklearn\\cluster\\_kmeans.py:1429: UserWarning: KMeans is known to have a memory leak on Windows with MKL, when there are less chunks than available threads. You can avoid it by setting the environment variable OMP_NUM_THREADS=2.\n",
      "  warnings.warn(\n"
     ]
    },
    {
     "name": "stdout",
     "output_type": "stream",
     "text": [
      "GMM Classifier Report:\n",
      "              precision    recall  f1-score   support\n",
      "\n",
      "           0       0.25      0.11      0.15        18\n",
      "           1       0.00      0.00      0.00        20\n",
      "           2       0.14      0.50      0.22        12\n",
      "           3       0.10      0.07      0.08        14\n",
      "           4       0.05      0.06      0.05        18\n",
      "           5       0.00      0.00      0.00         9\n",
      "           6       0.00      0.00      0.00        16\n",
      "\n",
      "    accuracy                           0.09       107\n",
      "   macro avg       0.08      0.11      0.07       107\n",
      "weighted avg       0.08      0.09      0.07       107\n",
      "\n",
      "SVM Classifier Report:\n",
      "              precision    recall  f1-score   support\n",
      "\n",
      "           0       0.48      0.72      0.58        18\n",
      "           1       0.57      0.40      0.47        20\n",
      "           2       0.33      0.17      0.22        12\n",
      "           3       0.47      0.57      0.52        14\n",
      "           4       0.50      0.28      0.36        18\n",
      "           5       0.31      0.44      0.36         9\n",
      "           6       0.30      0.38      0.33        16\n",
      "\n",
      "    accuracy                           0.43       107\n",
      "   macro avg       0.42      0.42      0.41       107\n",
      "weighted avg       0.44      0.43      0.42       107\n",
      "\n"
     ]
    },
    {
     "name": "stderr",
     "output_type": "stream",
     "text": [
      "c:\\Users\\sanni\\miniconda3\\envs\\coding2\\lib\\site-packages\\sklearn\\cluster\\_kmeans.py:1429: UserWarning: KMeans is known to have a memory leak on Windows with MKL, when there are less chunks than available threads. You can avoid it by setting the environment variable OMP_NUM_THREADS=2.\n",
      "  warnings.warn(\n"
     ]
    },
    {
     "name": "stdout",
     "output_type": "stream",
     "text": [
      "GMM Classifier Report:\n",
      "              precision    recall  f1-score   support\n",
      "\n",
      "           0       0.18      0.11      0.14        18\n",
      "           1       0.09      0.05      0.06        20\n",
      "           2       0.17      0.50      0.26        12\n",
      "           3       0.05      0.07      0.06        14\n",
      "           4       0.10      0.06      0.07        18\n",
      "           5       0.00      0.00      0.00         9\n",
      "           6       0.00      0.00      0.00        16\n",
      "\n",
      "    accuracy                           0.10       107\n",
      "   macro avg       0.08      0.11      0.08       107\n",
      "weighted avg       0.09      0.10      0.08       107\n",
      "\n",
      "SVM Classifier Report:\n",
      "              precision    recall  f1-score   support\n",
      "\n",
      "           0       0.40      0.67      0.50        18\n",
      "           1       0.71      0.60      0.65        20\n",
      "           2       0.33      0.08      0.13        12\n",
      "           3       0.26      0.36      0.30        14\n",
      "           4       0.60      0.33      0.43        18\n",
      "           5       0.50      0.67      0.57         9\n",
      "           6       0.44      0.44      0.44        16\n",
      "\n",
      "    accuracy                           0.46       107\n",
      "   macro avg       0.46      0.45      0.43       107\n",
      "weighted avg       0.48      0.46      0.45       107\n",
      "\n"
     ]
    },
    {
     "name": "stderr",
     "output_type": "stream",
     "text": [
      "c:\\Users\\sanni\\miniconda3\\envs\\coding2\\lib\\site-packages\\sklearn\\cluster\\_kmeans.py:1429: UserWarning: KMeans is known to have a memory leak on Windows with MKL, when there are less chunks than available threads. You can avoid it by setting the environment variable OMP_NUM_THREADS=2.\n",
      "  warnings.warn(\n"
     ]
    },
    {
     "name": "stdout",
     "output_type": "stream",
     "text": [
      "GMM Classifier Report:\n",
      "              precision    recall  f1-score   support\n",
      "\n",
      "           0       0.18      0.11      0.14        18\n",
      "           1       0.18      0.10      0.13        20\n",
      "           2       0.00      0.00      0.00        12\n",
      "           3       0.00      0.00      0.00        14\n",
      "           4       0.12      0.39      0.18        18\n",
      "           5       0.00      0.00      0.00         9\n",
      "           6       0.29      0.12      0.17        16\n",
      "\n",
      "    accuracy                           0.12       107\n",
      "   macro avg       0.11      0.10      0.09       107\n",
      "weighted avg       0.13      0.12      0.10       107\n",
      "\n",
      "SVM Classifier Report:\n",
      "              precision    recall  f1-score   support\n",
      "\n",
      "           0       0.44      0.61      0.51        18\n",
      "           1       0.52      0.55      0.54        20\n",
      "           2       0.80      0.33      0.47        12\n",
      "           3       0.41      0.50      0.45        14\n",
      "           4       0.45      0.28      0.34        18\n",
      "           5       0.43      0.67      0.52         9\n",
      "           6       0.50      0.44      0.47        16\n",
      "\n",
      "    accuracy                           0.48       107\n",
      "   macro avg       0.51      0.48      0.47       107\n",
      "weighted avg       0.50      0.48      0.47       107\n",
      "\n"
     ]
    },
    {
     "name": "stderr",
     "output_type": "stream",
     "text": [
      "c:\\Users\\sanni\\miniconda3\\envs\\coding2\\lib\\site-packages\\sklearn\\cluster\\_kmeans.py:1429: UserWarning: KMeans is known to have a memory leak on Windows with MKL, when there are less chunks than available threads. You can avoid it by setting the environment variable OMP_NUM_THREADS=2.\n",
      "  warnings.warn(\n"
     ]
    },
    {
     "name": "stdout",
     "output_type": "stream",
     "text": [
      "GMM Classifier Report:\n",
      "              precision    recall  f1-score   support\n",
      "\n",
      "           0       0.18      0.11      0.14        18\n",
      "           1       0.00      0.00      0.00        20\n",
      "           2       0.00      0.00      0.00        12\n",
      "           3       0.11      0.14      0.12        14\n",
      "           4       0.18      0.61      0.28        18\n",
      "           5       0.00      0.00      0.00         9\n",
      "           6       0.20      0.06      0.10        16\n",
      "\n",
      "    accuracy                           0.15       107\n",
      "   macro avg       0.10      0.13      0.09       107\n",
      "weighted avg       0.11      0.15      0.10       107\n",
      "\n",
      "SVM Classifier Report:\n",
      "              precision    recall  f1-score   support\n",
      "\n",
      "           0       0.42      0.78      0.55        18\n",
      "           1       0.55      0.55      0.55        20\n",
      "           2       1.00      0.08      0.15        12\n",
      "           3       0.45      0.36      0.40        14\n",
      "           4       0.30      0.17      0.21        18\n",
      "           5       0.44      0.78      0.56         9\n",
      "           6       0.31      0.31      0.31        16\n",
      "\n",
      "    accuracy                           0.43       107\n",
      "   macro avg       0.50      0.43      0.39       107\n",
      "weighted avg       0.48      0.43      0.39       107\n",
      "\n"
     ]
    },
    {
     "name": "stderr",
     "output_type": "stream",
     "text": [
      "c:\\Users\\sanni\\miniconda3\\envs\\coding2\\lib\\site-packages\\sklearn\\cluster\\_kmeans.py:1429: UserWarning: KMeans is known to have a memory leak on Windows with MKL, when there are less chunks than available threads. You can avoid it by setting the environment variable OMP_NUM_THREADS=2.\n",
      "  warnings.warn(\n"
     ]
    },
    {
     "name": "stdout",
     "output_type": "stream",
     "text": [
      "GMM Classifier Report:\n",
      "              precision    recall  f1-score   support\n",
      "\n",
      "           0       0.00      0.00      0.00        18\n",
      "           1       0.12      0.10      0.11        20\n",
      "           2       0.00      0.00      0.00        12\n",
      "           3       0.09      0.07      0.08        14\n",
      "           4       0.12      0.33      0.18        18\n",
      "           5       0.00      0.00      0.00         9\n",
      "           6       0.40      0.12      0.19        16\n",
      "\n",
      "    accuracy                           0.10       107\n",
      "   macro avg       0.11      0.09      0.08       107\n",
      "weighted avg       0.12      0.10      0.09       107\n",
      "\n",
      "SVM Classifier Report:\n",
      "              precision    recall  f1-score   support\n",
      "\n",
      "           0       0.41      0.83      0.55        18\n",
      "           1       0.67      0.40      0.50        20\n",
      "           2       0.40      0.17      0.24        12\n",
      "           3       0.50      0.43      0.46        14\n",
      "           4       0.38      0.17      0.23        18\n",
      "           5       0.28      0.56      0.37         9\n",
      "           6       0.27      0.25      0.26        16\n",
      "\n",
      "    accuracy                           0.40       107\n",
      "   macro avg       0.41      0.40      0.37       107\n",
      "weighted avg       0.43      0.40      0.38       107\n",
      "\n"
     ]
    },
    {
     "name": "stderr",
     "output_type": "stream",
     "text": [
      "c:\\Users\\sanni\\miniconda3\\envs\\coding2\\lib\\site-packages\\sklearn\\cluster\\_kmeans.py:1429: UserWarning: KMeans is known to have a memory leak on Windows with MKL, when there are less chunks than available threads. You can avoid it by setting the environment variable OMP_NUM_THREADS=2.\n",
      "  warnings.warn(\n"
     ]
    },
    {
     "name": "stdout",
     "output_type": "stream",
     "text": [
      "GMM Classifier Report:\n",
      "              precision    recall  f1-score   support\n",
      "\n",
      "           0       0.23      0.17      0.19        18\n",
      "           1       0.33      0.10      0.15        20\n",
      "           2       0.08      0.08      0.08        12\n",
      "           3       0.14      0.36      0.20        14\n",
      "           4       0.23      0.33      0.27        18\n",
      "           5       0.00      0.00      0.00         9\n",
      "           6       0.14      0.06      0.09        16\n",
      "\n",
      "    accuracy                           0.17       107\n",
      "   macro avg       0.17      0.16      0.14       107\n",
      "weighted avg       0.19      0.17      0.16       107\n",
      "\n",
      "SVM Classifier Report:\n",
      "              precision    recall  f1-score   support\n",
      "\n",
      "           0       0.40      0.67      0.50        18\n",
      "           1       0.43      0.45      0.44        20\n",
      "           2       0.00      0.00      0.00        12\n",
      "           3       0.38      0.36      0.37        14\n",
      "           4       0.36      0.22      0.28        18\n",
      "           5       0.21      0.33      0.26         9\n",
      "           6       0.33      0.31      0.32        16\n",
      "\n",
      "    accuracy                           0.36       107\n",
      "   macro avg       0.30      0.33      0.31       107\n",
      "weighted avg       0.33      0.36      0.33       107\n",
      "\n"
     ]
    },
    {
     "name": "stderr",
     "output_type": "stream",
     "text": [
      "c:\\Users\\sanni\\miniconda3\\envs\\coding2\\lib\\site-packages\\sklearn\\cluster\\_kmeans.py:1429: UserWarning: KMeans is known to have a memory leak on Windows with MKL, when there are less chunks than available threads. You can avoid it by setting the environment variable OMP_NUM_THREADS=2.\n",
      "  warnings.warn(\n"
     ]
    },
    {
     "name": "stdout",
     "output_type": "stream",
     "text": [
      "GMM Classifier Report:\n",
      "              precision    recall  f1-score   support\n",
      "\n",
      "           0       0.18      0.11      0.14        18\n",
      "           1       0.00      0.00      0.00        20\n",
      "           2       0.10      0.58      0.18        12\n",
      "           3       0.00      0.00      0.00        14\n",
      "           4       0.18      0.11      0.14        18\n",
      "           5       0.00      0.00      0.00         9\n",
      "           6       0.00      0.00      0.00        16\n",
      "\n",
      "    accuracy                           0.10       107\n",
      "   macro avg       0.07      0.12      0.06       107\n",
      "weighted avg       0.07      0.10      0.07       107\n",
      "\n",
      "SVM Classifier Report:\n",
      "              precision    recall  f1-score   support\n",
      "\n",
      "           0       0.52      0.72      0.60        18\n",
      "           1       0.55      0.60      0.57        20\n",
      "           2       0.40      0.17      0.24        12\n",
      "           3       0.45      0.36      0.40        14\n",
      "           4       0.47      0.39      0.42        18\n",
      "           5       0.50      0.67      0.57         9\n",
      "           6       0.41      0.44      0.42        16\n",
      "\n",
      "    accuracy                           0.49       107\n",
      "   macro avg       0.47      0.48      0.46       107\n",
      "weighted avg       0.48      0.49      0.47       107\n",
      "\n"
     ]
    },
    {
     "name": "stderr",
     "output_type": "stream",
     "text": [
      "c:\\Users\\sanni\\miniconda3\\envs\\coding2\\lib\\site-packages\\sklearn\\cluster\\_kmeans.py:1429: UserWarning: KMeans is known to have a memory leak on Windows with MKL, when there are less chunks than available threads. You can avoid it by setting the environment variable OMP_NUM_THREADS=2.\n",
      "  warnings.warn(\n"
     ]
    },
    {
     "name": "stdout",
     "output_type": "stream",
     "text": [
      "GMM Classifier Report:\n",
      "              precision    recall  f1-score   support\n",
      "\n",
      "           0       0.22      0.28      0.24        18\n",
      "           1       0.00      0.00      0.00        20\n",
      "           2       0.00      0.00      0.00        12\n",
      "           3       0.00      0.00      0.00        14\n",
      "           4       0.20      0.56      0.29        18\n",
      "           5       0.00      0.00      0.00         9\n",
      "           6       0.33      0.06      0.11        16\n",
      "\n",
      "    accuracy                           0.15       107\n",
      "   macro avg       0.11      0.13      0.09       107\n",
      "weighted avg       0.12      0.15      0.11       107\n",
      "\n",
      "SVM Classifier Report:\n",
      "              precision    recall  f1-score   support\n",
      "\n",
      "           0       0.38      0.50      0.43        18\n",
      "           1       0.50      0.45      0.47        20\n",
      "           2       0.38      0.25      0.30        12\n",
      "           3       0.33      0.36      0.34        14\n",
      "           4       0.67      0.33      0.44        18\n",
      "           5       0.46      0.67      0.55         9\n",
      "           6       0.40      0.50      0.44        16\n",
      "\n",
      "    accuracy                           0.43       107\n",
      "   macro avg       0.44      0.44      0.43       107\n",
      "weighted avg       0.45      0.43      0.43       107\n",
      "\n"
     ]
    },
    {
     "name": "stderr",
     "output_type": "stream",
     "text": [
      "c:\\Users\\sanni\\miniconda3\\envs\\coding2\\lib\\site-packages\\sklearn\\cluster\\_kmeans.py:1429: UserWarning: KMeans is known to have a memory leak on Windows with MKL, when there are less chunks than available threads. You can avoid it by setting the environment variable OMP_NUM_THREADS=2.\n",
      "  warnings.warn(\n"
     ]
    },
    {
     "name": "stdout",
     "output_type": "stream",
     "text": [
      "GMM Classifier Report:\n",
      "              precision    recall  f1-score   support\n",
      "\n",
      "           0       0.12      0.11      0.11        18\n",
      "           1       0.14      0.05      0.07        20\n",
      "           2       0.00      0.00      0.00        12\n",
      "           3       0.07      0.07      0.07        14\n",
      "           4       0.14      0.33      0.20        18\n",
      "           5       0.00      0.00      0.00         9\n",
      "           6       0.22      0.12      0.16        16\n",
      "\n",
      "    accuracy                           0.11       107\n",
      "   macro avg       0.10      0.10      0.09       107\n",
      "weighted avg       0.11      0.11      0.10       107\n",
      "\n",
      "SVM Classifier Report:\n",
      "              precision    recall  f1-score   support\n",
      "\n",
      "           0       0.45      0.78      0.57        18\n",
      "           1       0.69      0.55      0.61        20\n",
      "           2       0.33      0.08      0.13        12\n",
      "           3       0.40      0.29      0.33        14\n",
      "           4       0.45      0.28      0.34        18\n",
      "           5       0.47      0.89      0.62         9\n",
      "           6       0.53      0.62      0.57        16\n",
      "\n",
      "    accuracy                           0.50       107\n",
      "   macro avg       0.47      0.50      0.45       107\n",
      "weighted avg       0.49      0.50      0.46       107\n",
      "\n"
     ]
    },
    {
     "name": "stderr",
     "output_type": "stream",
     "text": [
      "c:\\Users\\sanni\\miniconda3\\envs\\coding2\\lib\\site-packages\\sklearn\\cluster\\_kmeans.py:1429: UserWarning: KMeans is known to have a memory leak on Windows with MKL, when there are less chunks than available threads. You can avoid it by setting the environment variable OMP_NUM_THREADS=2.\n",
      "  warnings.warn(\n"
     ]
    },
    {
     "name": "stdout",
     "output_type": "stream",
     "text": [
      "GMM Classifier Report:\n",
      "              precision    recall  f1-score   support\n",
      "\n",
      "           0       0.19      0.17      0.18        18\n",
      "           1       0.15      0.20      0.17        20\n",
      "           2       0.05      0.08      0.06        12\n",
      "           3       0.50      0.07      0.12        14\n",
      "           4       0.18      0.33      0.23        18\n",
      "           5       0.00      0.00      0.00         9\n",
      "           6       0.33      0.12      0.18        16\n",
      "\n",
      "    accuracy                           0.16       107\n",
      "   macro avg       0.20      0.14      0.14       107\n",
      "weighted avg       0.21      0.16      0.15       107\n",
      "\n",
      "SVM Classifier Report:\n",
      "              precision    recall  f1-score   support\n",
      "\n",
      "           0       0.43      0.83      0.57        18\n",
      "           1       0.53      0.45      0.49        20\n",
      "           2       0.29      0.17      0.21        12\n",
      "           3       0.50      0.36      0.42        14\n",
      "           4       0.57      0.22      0.32        18\n",
      "           5       0.36      0.56      0.43         9\n",
      "           6       0.53      0.56      0.55        16\n",
      "\n",
      "    accuracy                           0.46       107\n",
      "   macro avg       0.46      0.45      0.43       107\n",
      "weighted avg       0.47      0.46      0.44       107\n",
      "\n"
     ]
    },
    {
     "name": "stderr",
     "output_type": "stream",
     "text": [
      "c:\\Users\\sanni\\miniconda3\\envs\\coding2\\lib\\site-packages\\sklearn\\cluster\\_kmeans.py:1429: UserWarning: KMeans is known to have a memory leak on Windows with MKL, when there are less chunks than available threads. You can avoid it by setting the environment variable OMP_NUM_THREADS=2.\n",
      "  warnings.warn(\n"
     ]
    },
    {
     "name": "stdout",
     "output_type": "stream",
     "text": [
      "GMM Classifier Report:\n",
      "              precision    recall  f1-score   support\n",
      "\n",
      "           0       0.14      0.06      0.08        18\n",
      "           1       0.23      0.15      0.18        20\n",
      "           2       0.00      0.00      0.00        12\n",
      "           3       0.17      0.07      0.10        14\n",
      "           4       0.06      0.06      0.06        18\n",
      "           5       0.05      0.22      0.08         9\n",
      "           6       0.00      0.00      0.00        16\n",
      "\n",
      "    accuracy                           0.07       107\n",
      "   macro avg       0.09      0.08      0.07       107\n",
      "weighted avg       0.10      0.07      0.08       107\n",
      "\n",
      "SVM Classifier Report:\n",
      "              precision    recall  f1-score   support\n",
      "\n",
      "           0       0.45      0.72      0.55        18\n",
      "           1       0.75      0.60      0.67        20\n",
      "           2       0.33      0.17      0.22        12\n",
      "           3       0.50      0.36      0.42        14\n",
      "           4       0.33      0.22      0.27        18\n",
      "           5       0.46      0.67      0.55         9\n",
      "           6       0.38      0.50      0.43        16\n",
      "\n",
      "    accuracy                           0.47       107\n",
      "   macro avg       0.46      0.46      0.44       107\n",
      "weighted avg       0.47      0.47      0.45       107\n",
      "\n"
     ]
    },
    {
     "name": "stderr",
     "output_type": "stream",
     "text": [
      "c:\\Users\\sanni\\miniconda3\\envs\\coding2\\lib\\site-packages\\sklearn\\cluster\\_kmeans.py:1429: UserWarning: KMeans is known to have a memory leak on Windows with MKL, when there are less chunks than available threads. You can avoid it by setting the environment variable OMP_NUM_THREADS=2.\n",
      "  warnings.warn(\n"
     ]
    },
    {
     "name": "stdout",
     "output_type": "stream",
     "text": [
      "GMM Classifier Report:\n",
      "              precision    recall  f1-score   support\n",
      "\n",
      "           0       0.00      0.00      0.00        18\n",
      "           1       0.10      0.05      0.07        20\n",
      "           2       0.06      0.08      0.07        12\n",
      "           3       0.00      0.00      0.00        14\n",
      "           4       0.13      0.39      0.19        18\n",
      "           5       0.00      0.00      0.00         9\n",
      "           6       0.00      0.00      0.00        16\n",
      "\n",
      "    accuracy                           0.08       107\n",
      "   macro avg       0.04      0.07      0.05       107\n",
      "weighted avg       0.05      0.08      0.05       107\n",
      "\n"
     ]
    },
    {
     "name": "stderr",
     "output_type": "stream",
     "text": [
      "c:\\Users\\sanni\\miniconda3\\envs\\coding2\\lib\\site-packages\\sklearn\\metrics\\_classification.py:1531: UndefinedMetricWarning: Precision is ill-defined and being set to 0.0 in labels with no predicted samples. Use `zero_division` parameter to control this behavior.\n",
      "  _warn_prf(average, modifier, f\"{metric.capitalize()} is\", len(result))\n",
      "c:\\Users\\sanni\\miniconda3\\envs\\coding2\\lib\\site-packages\\sklearn\\metrics\\_classification.py:1531: UndefinedMetricWarning: Precision is ill-defined and being set to 0.0 in labels with no predicted samples. Use `zero_division` parameter to control this behavior.\n",
      "  _warn_prf(average, modifier, f\"{metric.capitalize()} is\", len(result))\n",
      "c:\\Users\\sanni\\miniconda3\\envs\\coding2\\lib\\site-packages\\sklearn\\metrics\\_classification.py:1531: UndefinedMetricWarning: Precision is ill-defined and being set to 0.0 in labels with no predicted samples. Use `zero_division` parameter to control this behavior.\n",
      "  _warn_prf(average, modifier, f\"{metric.capitalize()} is\", len(result))\n"
     ]
    },
    {
     "name": "stdout",
     "output_type": "stream",
     "text": [
      "SVM Classifier Report:\n",
      "              precision    recall  f1-score   support\n",
      "\n",
      "           0       0.44      0.61      0.51        18\n",
      "           1       0.55      0.55      0.55        20\n",
      "           2       0.29      0.17      0.21        12\n",
      "           3       0.50      0.36      0.42        14\n",
      "           4       0.46      0.33      0.39        18\n",
      "           5       0.39      0.78      0.52         9\n",
      "           6       0.50      0.44      0.47        16\n",
      "\n",
      "    accuracy                           0.46       107\n",
      "   macro avg       0.45      0.46      0.44       107\n",
      "weighted avg       0.46      0.46      0.45       107\n",
      "\n"
     ]
    },
    {
     "name": "stderr",
     "output_type": "stream",
     "text": [
      "c:\\Users\\sanni\\miniconda3\\envs\\coding2\\lib\\site-packages\\numpy\\core\\fromnumeric.py:3504: RuntimeWarning: Mean of empty slice.\n",
      "  return _methods._mean(a, axis=axis, dtype=dtype,\n",
      "c:\\Users\\sanni\\miniconda3\\envs\\coding2\\lib\\site-packages\\numpy\\core\\_methods.py:121: RuntimeWarning: invalid value encountered in divide\n",
      "  ret = um.true_divide(\n",
      "c:\\Users\\sanni\\miniconda3\\envs\\coding2\\lib\\site-packages\\sklearn\\cluster\\_kmeans.py:1429: UserWarning: KMeans is known to have a memory leak on Windows with MKL, when there are less chunks than available threads. You can avoid it by setting the environment variable OMP_NUM_THREADS=2.\n",
      "  warnings.warn(\n"
     ]
    },
    {
     "ename": "ValueError",
     "evalue": "Input X contains NaN.\nGaussianMixture does not accept missing values encoded as NaN natively. For supervised learning, you might want to consider sklearn.ensemble.HistGradientBoostingClassifier and Regressor which accept missing values encoded as NaNs natively. Alternatively, it is possible to preprocess the data, for instance by using an imputer transformer in a pipeline or drop samples with missing values. See https://scikit-learn.org/stable/modules/impute.html You can find a list of all estimators that handle NaN values at the following page: https://scikit-learn.org/stable/modules/impute.html#estimators-that-handle-nan-values",
     "output_type": "error",
     "traceback": [
      "\u001b[1;31m---------------------------------------------------------------------------\u001b[0m",
      "\u001b[1;31mValueError\u001b[0m                                Traceback (most recent call last)",
      "Cell \u001b[1;32mIn[7], line 28\u001b[0m\n\u001b[0;32m     25\u001b[0m     wandb\u001b[38;5;241m.\u001b[39mfinish()\n\u001b[0;32m     27\u001b[0m \u001b[38;5;66;03m# Run it directly\u001b[39;00m\n\u001b[1;32m---> 28\u001b[0m \u001b[43msingle_run_all_nmfccs\u001b[49m\u001b[43m(\u001b[49m\u001b[43m)\u001b[49m\n",
      "Cell \u001b[1;32mIn[7], line 15\u001b[0m, in \u001b[0;36msingle_run_all_nmfccs\u001b[1;34m()\u001b[0m\n\u001b[0;32m     13\u001b[0m labels \u001b[38;5;241m=\u001b[39m load_labels(\u001b[38;5;124m\"\u001b[39m\u001b[38;5;124mEmoDB_dataset/emotion_mapping_detailed.csv\u001b[39m\u001b[38;5;124m\"\u001b[39m)\n\u001b[0;32m     14\u001b[0m X, y \u001b[38;5;241m=\u001b[39m prepare_dataset(mfccFeatures, labels)\n\u001b[1;32m---> 15\u001b[0m gmm_acc, svm_acc \u001b[38;5;241m=\u001b[39m \u001b[43mtrain_and_evaluate\u001b[49m\u001b[43m(\u001b[49m\u001b[43mX\u001b[49m\u001b[43m,\u001b[49m\u001b[43m \u001b[49m\u001b[43my\u001b[49m\u001b[43m)\u001b[49m\n\u001b[0;32m     17\u001b[0m \u001b[38;5;66;03m# Log scalars at each step\u001b[39;00m\n\u001b[0;32m     18\u001b[0m wandb\u001b[38;5;241m.\u001b[39mlog({\n\u001b[0;32m     19\u001b[0m     \u001b[38;5;124m\"\u001b[39m\u001b[38;5;124mn_mfcc\u001b[39m\u001b[38;5;124m\"\u001b[39m: n,\n\u001b[0;32m     20\u001b[0m     \u001b[38;5;124m\"\u001b[39m\u001b[38;5;124msvm_accuracy\u001b[39m\u001b[38;5;124m\"\u001b[39m: svm_acc,\n\u001b[0;32m     21\u001b[0m     \u001b[38;5;124m\"\u001b[39m\u001b[38;5;124mgmm_accuracy\u001b[39m\u001b[38;5;124m\"\u001b[39m: gmm_acc,\n\u001b[0;32m     22\u001b[0m     \u001b[38;5;124m\"\u001b[39m\u001b[38;5;124mfeature_dim\u001b[39m\u001b[38;5;124m\"\u001b[39m: X\u001b[38;5;241m.\u001b[39mshape[\u001b[38;5;241m1\u001b[39m]\n\u001b[0;32m     23\u001b[0m })\n",
      "Cell \u001b[1;32mIn[6], line 39\u001b[0m, in \u001b[0;36mtrain_and_evaluate\u001b[1;34m(X, y)\u001b[0m\n\u001b[0;32m     37\u001b[0m gmm_model \u001b[38;5;241m=\u001b[39m GaussianMixture(n_components\u001b[38;5;241m=\u001b[39m\u001b[38;5;28mlen\u001b[39m(np\u001b[38;5;241m.\u001b[39munique(y)), random_state\u001b[38;5;241m=\u001b[39m\u001b[38;5;241m42\u001b[39m)\n\u001b[0;32m     38\u001b[0m gmm_model\u001b[38;5;241m.\u001b[39mfit(X_train)\n\u001b[1;32m---> 39\u001b[0m gmm_predictions \u001b[38;5;241m=\u001b[39m \u001b[43mgmm_model\u001b[49m\u001b[38;5;241;43m.\u001b[39;49m\u001b[43mpredict\u001b[49m\u001b[43m(\u001b[49m\u001b[43mX_test\u001b[49m\u001b[43m)\u001b[49m\n\u001b[0;32m     41\u001b[0m gmm_acc \u001b[38;5;241m=\u001b[39m accuracy_score(y_test, gmm_predictions)\n\u001b[0;32m     42\u001b[0m \u001b[38;5;28mprint\u001b[39m(\u001b[38;5;124m\"\u001b[39m\u001b[38;5;124mGMM Classifier Report:\u001b[39m\u001b[38;5;124m\"\u001b[39m)\n",
      "File \u001b[1;32mc:\\Users\\sanni\\miniconda3\\envs\\coding2\\lib\\site-packages\\sklearn\\mixture\\_base.py:384\u001b[0m, in \u001b[0;36mBaseMixture.predict\u001b[1;34m(self, X)\u001b[0m\n\u001b[0;32m    370\u001b[0m \u001b[38;5;250m\u001b[39m\u001b[38;5;124;03m\"\"\"Predict the labels for the data samples in X using trained model.\u001b[39;00m\n\u001b[0;32m    371\u001b[0m \n\u001b[0;32m    372\u001b[0m \u001b[38;5;124;03mParameters\u001b[39;00m\n\u001b[1;32m   (...)\u001b[0m\n\u001b[0;32m    381\u001b[0m \u001b[38;5;124;03m    Component labels.\u001b[39;00m\n\u001b[0;32m    382\u001b[0m \u001b[38;5;124;03m\"\"\"\u001b[39;00m\n\u001b[0;32m    383\u001b[0m check_is_fitted(\u001b[38;5;28mself\u001b[39m)\n\u001b[1;32m--> 384\u001b[0m X \u001b[38;5;241m=\u001b[39m \u001b[38;5;28;43mself\u001b[39;49m\u001b[38;5;241;43m.\u001b[39;49m\u001b[43m_validate_data\u001b[49m\u001b[43m(\u001b[49m\u001b[43mX\u001b[49m\u001b[43m,\u001b[49m\u001b[43m \u001b[49m\u001b[43mreset\u001b[49m\u001b[38;5;241;43m=\u001b[39;49m\u001b[38;5;28;43;01mFalse\u001b[39;49;00m\u001b[43m)\u001b[49m\n\u001b[0;32m    385\u001b[0m \u001b[38;5;28;01mreturn\u001b[39;00m \u001b[38;5;28mself\u001b[39m\u001b[38;5;241m.\u001b[39m_estimate_weighted_log_prob(X)\u001b[38;5;241m.\u001b[39margmax(axis\u001b[38;5;241m=\u001b[39m\u001b[38;5;241m1\u001b[39m)\n",
      "File \u001b[1;32mc:\\Users\\sanni\\miniconda3\\envs\\coding2\\lib\\site-packages\\sklearn\\base.py:633\u001b[0m, in \u001b[0;36mBaseEstimator._validate_data\u001b[1;34m(self, X, y, reset, validate_separately, cast_to_ndarray, **check_params)\u001b[0m\n\u001b[0;32m    631\u001b[0m         out \u001b[38;5;241m=\u001b[39m X, y\n\u001b[0;32m    632\u001b[0m \u001b[38;5;28;01melif\u001b[39;00m \u001b[38;5;129;01mnot\u001b[39;00m no_val_X \u001b[38;5;129;01mand\u001b[39;00m no_val_y:\n\u001b[1;32m--> 633\u001b[0m     out \u001b[38;5;241m=\u001b[39m check_array(X, input_name\u001b[38;5;241m=\u001b[39m\u001b[38;5;124m\"\u001b[39m\u001b[38;5;124mX\u001b[39m\u001b[38;5;124m\"\u001b[39m, \u001b[38;5;241m*\u001b[39m\u001b[38;5;241m*\u001b[39mcheck_params)\n\u001b[0;32m    634\u001b[0m \u001b[38;5;28;01melif\u001b[39;00m no_val_X \u001b[38;5;129;01mand\u001b[39;00m \u001b[38;5;129;01mnot\u001b[39;00m no_val_y:\n\u001b[0;32m    635\u001b[0m     out \u001b[38;5;241m=\u001b[39m _check_y(y, \u001b[38;5;241m*\u001b[39m\u001b[38;5;241m*\u001b[39mcheck_params)\n",
      "File \u001b[1;32mc:\\Users\\sanni\\miniconda3\\envs\\coding2\\lib\\site-packages\\sklearn\\utils\\validation.py:1064\u001b[0m, in \u001b[0;36mcheck_array\u001b[1;34m(array, accept_sparse, accept_large_sparse, dtype, order, copy, force_writeable, force_all_finite, ensure_2d, allow_nd, ensure_min_samples, ensure_min_features, estimator, input_name)\u001b[0m\n\u001b[0;32m   1058\u001b[0m     \u001b[38;5;28;01mraise\u001b[39;00m \u001b[38;5;167;01mValueError\u001b[39;00m(\n\u001b[0;32m   1059\u001b[0m         \u001b[38;5;124m\"\u001b[39m\u001b[38;5;124mFound array with dim \u001b[39m\u001b[38;5;132;01m%d\u001b[39;00m\u001b[38;5;124m. \u001b[39m\u001b[38;5;132;01m%s\u001b[39;00m\u001b[38;5;124m expected <= 2.\u001b[39m\u001b[38;5;124m\"\u001b[39m\n\u001b[0;32m   1060\u001b[0m         \u001b[38;5;241m%\u001b[39m (array\u001b[38;5;241m.\u001b[39mndim, estimator_name)\n\u001b[0;32m   1061\u001b[0m     )\n\u001b[0;32m   1063\u001b[0m \u001b[38;5;28;01mif\u001b[39;00m force_all_finite:\n\u001b[1;32m-> 1064\u001b[0m     \u001b[43m_assert_all_finite\u001b[49m\u001b[43m(\u001b[49m\n\u001b[0;32m   1065\u001b[0m \u001b[43m        \u001b[49m\u001b[43marray\u001b[49m\u001b[43m,\u001b[49m\n\u001b[0;32m   1066\u001b[0m \u001b[43m        \u001b[49m\u001b[43minput_name\u001b[49m\u001b[38;5;241;43m=\u001b[39;49m\u001b[43minput_name\u001b[49m\u001b[43m,\u001b[49m\n\u001b[0;32m   1067\u001b[0m \u001b[43m        \u001b[49m\u001b[43mestimator_name\u001b[49m\u001b[38;5;241;43m=\u001b[39;49m\u001b[43mestimator_name\u001b[49m\u001b[43m,\u001b[49m\n\u001b[0;32m   1068\u001b[0m \u001b[43m        \u001b[49m\u001b[43mallow_nan\u001b[49m\u001b[38;5;241;43m=\u001b[39;49m\u001b[43mforce_all_finite\u001b[49m\u001b[43m \u001b[49m\u001b[38;5;241;43m==\u001b[39;49m\u001b[43m \u001b[49m\u001b[38;5;124;43m\"\u001b[39;49m\u001b[38;5;124;43mallow-nan\u001b[39;49m\u001b[38;5;124;43m\"\u001b[39;49m\u001b[43m,\u001b[49m\n\u001b[0;32m   1069\u001b[0m \u001b[43m    \u001b[49m\u001b[43m)\u001b[49m\n\u001b[0;32m   1071\u001b[0m \u001b[38;5;28;01mif\u001b[39;00m copy:\n\u001b[0;32m   1072\u001b[0m     \u001b[38;5;28;01mif\u001b[39;00m _is_numpy_namespace(xp):\n\u001b[0;32m   1073\u001b[0m         \u001b[38;5;66;03m# only make a copy if `array` and `array_orig` may share memory`\u001b[39;00m\n",
      "File \u001b[1;32mc:\\Users\\sanni\\miniconda3\\envs\\coding2\\lib\\site-packages\\sklearn\\utils\\validation.py:123\u001b[0m, in \u001b[0;36m_assert_all_finite\u001b[1;34m(X, allow_nan, msg_dtype, estimator_name, input_name)\u001b[0m\n\u001b[0;32m    120\u001b[0m \u001b[38;5;28;01mif\u001b[39;00m first_pass_isfinite:\n\u001b[0;32m    121\u001b[0m     \u001b[38;5;28;01mreturn\u001b[39;00m\n\u001b[1;32m--> 123\u001b[0m \u001b[43m_assert_all_finite_element_wise\u001b[49m\u001b[43m(\u001b[49m\n\u001b[0;32m    124\u001b[0m \u001b[43m    \u001b[49m\u001b[43mX\u001b[49m\u001b[43m,\u001b[49m\n\u001b[0;32m    125\u001b[0m \u001b[43m    \u001b[49m\u001b[43mxp\u001b[49m\u001b[38;5;241;43m=\u001b[39;49m\u001b[43mxp\u001b[49m\u001b[43m,\u001b[49m\n\u001b[0;32m    126\u001b[0m \u001b[43m    \u001b[49m\u001b[43mallow_nan\u001b[49m\u001b[38;5;241;43m=\u001b[39;49m\u001b[43mallow_nan\u001b[49m\u001b[43m,\u001b[49m\n\u001b[0;32m    127\u001b[0m \u001b[43m    \u001b[49m\u001b[43mmsg_dtype\u001b[49m\u001b[38;5;241;43m=\u001b[39;49m\u001b[43mmsg_dtype\u001b[49m\u001b[43m,\u001b[49m\n\u001b[0;32m    128\u001b[0m \u001b[43m    \u001b[49m\u001b[43mestimator_name\u001b[49m\u001b[38;5;241;43m=\u001b[39;49m\u001b[43mestimator_name\u001b[49m\u001b[43m,\u001b[49m\n\u001b[0;32m    129\u001b[0m \u001b[43m    \u001b[49m\u001b[43minput_name\u001b[49m\u001b[38;5;241;43m=\u001b[39;49m\u001b[43minput_name\u001b[49m\u001b[43m,\u001b[49m\n\u001b[0;32m    130\u001b[0m \u001b[43m\u001b[49m\u001b[43m)\u001b[49m\n",
      "File \u001b[1;32mc:\\Users\\sanni\\miniconda3\\envs\\coding2\\lib\\site-packages\\sklearn\\utils\\validation.py:172\u001b[0m, in \u001b[0;36m_assert_all_finite_element_wise\u001b[1;34m(X, xp, allow_nan, msg_dtype, estimator_name, input_name)\u001b[0m\n\u001b[0;32m    155\u001b[0m \u001b[38;5;28;01mif\u001b[39;00m estimator_name \u001b[38;5;129;01mand\u001b[39;00m input_name \u001b[38;5;241m==\u001b[39m \u001b[38;5;124m\"\u001b[39m\u001b[38;5;124mX\u001b[39m\u001b[38;5;124m\"\u001b[39m \u001b[38;5;129;01mand\u001b[39;00m has_nan_error:\n\u001b[0;32m    156\u001b[0m     \u001b[38;5;66;03m# Improve the error message on how to handle missing values in\u001b[39;00m\n\u001b[0;32m    157\u001b[0m     \u001b[38;5;66;03m# scikit-learn.\u001b[39;00m\n\u001b[0;32m    158\u001b[0m     msg_err \u001b[38;5;241m+\u001b[39m\u001b[38;5;241m=\u001b[39m (\n\u001b[0;32m    159\u001b[0m         \u001b[38;5;124mf\u001b[39m\u001b[38;5;124m\"\u001b[39m\u001b[38;5;130;01m\\n\u001b[39;00m\u001b[38;5;132;01m{\u001b[39;00mestimator_name\u001b[38;5;132;01m}\u001b[39;00m\u001b[38;5;124m does not accept missing values\u001b[39m\u001b[38;5;124m\"\u001b[39m\n\u001b[0;32m    160\u001b[0m         \u001b[38;5;124m\"\u001b[39m\u001b[38;5;124m encoded as NaN natively. For supervised learning, you might want\u001b[39m\u001b[38;5;124m\"\u001b[39m\n\u001b[1;32m   (...)\u001b[0m\n\u001b[0;32m    170\u001b[0m         \u001b[38;5;124m\"\u001b[39m\u001b[38;5;124m#estimators-that-handle-nan-values\u001b[39m\u001b[38;5;124m\"\u001b[39m\n\u001b[0;32m    171\u001b[0m     )\n\u001b[1;32m--> 172\u001b[0m \u001b[38;5;28;01mraise\u001b[39;00m \u001b[38;5;167;01mValueError\u001b[39;00m(msg_err)\n",
      "\u001b[1;31mValueError\u001b[0m: Input X contains NaN.\nGaussianMixture does not accept missing values encoded as NaN natively. For supervised learning, you might want to consider sklearn.ensemble.HistGradientBoostingClassifier and Regressor which accept missing values encoded as NaNs natively. Alternatively, it is possible to preprocess the data, for instance by using an imputer transformer in a pipeline or drop samples with missing values. See https://scikit-learn.org/stable/modules/impute.html You can find a list of all estimators that handle NaN values at the following page: https://scikit-learn.org/stable/modules/impute.html#estimators-that-handle-nan-values"
     ]
    }
   ],
   "source": [
    "import wandb\n",
    "import numpy as np\n",
    "\n",
    "def single_run_all_nmfccs():\n",
    "    wandb.init(\n",
    "        project=\"ssp-mfcc-tuning-SilenceRemoval\",\n",
    "        name=\"n_mfcc_sweep_single_run\",\n",
    "        config={}\n",
    "    )\n",
    "\n",
    "    for n in np.arange(10, 100, 5):\n",
    "        mfccFeatures = process_directory_mfcc(directory, n)\n",
    "        labels = load_labels(\"EmoDB_dataset/emotion_mapping_detailed.csv\")\n",
    "        X, y = prepare_dataset(mfccFeatures, labels)\n",
    "        gmm_acc, svm_acc = train_and_evaluate(X, y)\n",
    "\n",
    "        # Log scalars at each step\n",
    "        wandb.log({\n",
    "            \"n_mfcc\": n,\n",
    "            \"svm_accuracy\": svm_acc,\n",
    "            \"gmm_accuracy\": gmm_acc,\n",
    "            \"feature_dim\": X.shape[1]\n",
    "        })\n",
    "\n",
    "    wandb.finish()\n",
    "\n",
    "# Run it directly\n",
    "single_run_all_nmfccs()\n"
   ]
  }
 ],
 "metadata": {
  "kernelspec": {
   "display_name": "coding2",
   "language": "python",
   "name": "python3"
  },
  "language_info": {
   "codemirror_mode": {
    "name": "ipython",
    "version": 3
   },
   "file_extension": ".py",
   "mimetype": "text/x-python",
   "name": "python",
   "nbconvert_exporter": "python",
   "pygments_lexer": "ipython3",
   "version": "3.10.15"
  }
 },
 "nbformat": 4,
 "nbformat_minor": 2
}
